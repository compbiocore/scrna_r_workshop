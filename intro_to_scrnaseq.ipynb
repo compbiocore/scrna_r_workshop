{
 "cells": [
  {
   "cell_type": "markdown",
   "id": "ab0fb91a",
   "metadata": {},
   "source": [
    "# Introduction to scRNA-seq\n",
    "- Much of this notebook is adapted from the Seurat vignettes https://satijalab.org/seurat and GitHub repository https://github.com/satijalab/seurat\n",
    "\n",
    "### How does scRNA-seq differ from bulk RNA-seq?\n",
    "- In bulk RNA-seq you are taking a snapshot of expression of all the cells in a sample and your measurements are aggregated across all of those cells.\n",
    "- In scRNA-seq, you can get a sense of the heterogeneity of the cells in your sample.\n",
    "    - Are there novel or rare cell types?\n",
    "    - What about cell type specific gene expression?\n",
    "    - Does the distribution of different cell types change across time or treatment?\n",
    "- This increased resolution comes with some unique challenges.\n",
    "    - Dropouts - genes that are not detected in some cells, can lead to sparse expression matrices with many zero values.\n",
    "    - Doublets - sequencing two cells at the same time and can't distinguish their expression or cell types, need to filter these out during QC.\n",
    "    - Dying cells - you will lose some cells because they are dead or dying, you can also filter these out during sample QC.\n",
    "    - You also should be cautious when thinking about your sample sizes. For example, you may be sequencing thousands of cells but if they all come from the same mouse you lose the ability to generalize your findings.\n",
    "   \n",
    "### scRNA-seq technologies\n",
    "- Although 10X genomics is probably the most popular technology for scRNA-seq, there are other flavors (see PMID 30472192 and PMID 28212749).\n",
    "- Step 1 in 10x workflow isencapsulating a cell, reagents, and a bead w/ primer in an oil droplet (aka GEM or Gel Bead-in EMulsion).\n"
   ]
  },
  {
   "cell_type": "markdown",
   "id": "8882f916",
   "metadata": {},
   "source": []
  },
  {
   "cell_type": "code",
   "execution_count": 1,
   "id": "ad012487",
   "metadata": {},
   "outputs": [],
   "source": [
    ".libPaths(c('/usr/local/lib/R/site-library', '/usr/local/lib/R/library', '/tmp/RtmpTPz6Xo/downloaded_packages'))"
   ]
  },
  {
   "cell_type": "markdown",
   "id": "7577c8c8",
   "metadata": {},
   "source": []
  }
 ],
 "metadata": {
  "kernelspec": {
   "display_name": "R",
   "language": "R",
   "name": "ir"
  },
  "language_info": {
   "codemirror_mode": "r",
   "file_extension": ".r",
   "mimetype": "text/x-r-source",
   "name": "R",
   "pygments_lexer": "r",
   "version": "4.0.3"
  }
 },
 "nbformat": 4,
 "nbformat_minor": 5
}
