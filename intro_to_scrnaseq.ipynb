{
 "cells": [
  {
   "cell_type": "markdown",
   "metadata": {},
   "source": [
    "# Introduction to scRNA-seq\n",
    "- Much of this notebook is adapted from the Seurat vignettes https://satijalab.org/seurat and GitHub repository https://github.com/satijalab/seurat\n",
    "\n",
    "### How does scRNA-seq differ from bulk RNA-seq?\n",
    "\n",
    "<img src=\"src/bulk_vs_singlecell.png\" width=\"500\">\n",
    "\n",
    "- In bulk RNA-seq you are taking a snapshot of expression of all the cells in a sample and your measurements are aggregated across all of those cells.\n",
    "- In scRNA-seq, you can get a sense of the heterogeneity of the cells in your sample.\n",
    "    - Are there novel or rare cell types?\n",
    "    - What about cell type specific gene expression?\n",
    "    - Does the distribution of different cell types change across time or treatment?\n",
    "- This increased resolution comes with some unique challenges.\n",
    "    - Dropouts - genes that are not detected in some cells, can lead to sparse expression matrices with many zero values.\n",
    "    - Doublets - sequencing two cells at the same time and can't distinguish their expression or cell types, need to filter these out during QC.\n",
    "    - Dying cells - you will lose some cells because they are dead or dying, you can also filter these out during sample QC.\n",
    "    - You also should be cautious when thinking about your sample sizes. For example, you may be sequencing thousands of cells but if they all come from the same mouse you lose the ability to generalize your findings.\n",
    "   \n",
    "### scRNA-seq technologies\n",
    "- Although 10X genomics is probably the most popular technology for scRNA-seq, there are other flavors (see PMID 30472192 and PMID 28212749).   \n",
    "\n",
    "<img src=\"src/10x_flow.png\" width=\"500\">\n",
    "\n",
    "- 10x sequencing encapsulates a cell, reagents, and a bead w/ primer in an oil droplet (aka GEM or Gel Bead-in EMulsion).    \n",
    "\n",
    "<img src=\"src/10x_bead.png\" width=\"500\">\n",
    "\n",
    "- After encapsulation of cells, beads, and reagents in the oil droplets, the bead is dissolved and releases primers. \n",
    "- The poly (dT) primers are used for generating the gene expression libraries. \n",
    "- The capture sequence primers are shown in a lighter shading because they are only used in situations where you'd like to add an extra channel of information to your experiment by using feature barcoding (cell-surface protein characterization, multiplexing, etc).\n",
    "- https://teichlab.github.io/scg_lib_structs/ is an excellent resource for information about the resulting library structures for 10x libraries (and other single cell technologies like Drop-seq or SMART-seq).\n",
    "\n",
    "### Seurat objects\n",
    "- This workshop focuses on using Seurat objects to structure your scRNA-seq data (https://github.com/satijalab/seurat/wiki/Seurat).     \n",
    "\n",
    "<img src=\"src/seurat_object.png\" width=\"500\">\n",
    "\n",
    "- Each Seurat object is composed of different slots.\n",
    "    - **`assays`** is a list of all the assays in the object.\n",
    "        - Typically only has the `RNA` assay, but you can add others (like `SCT` shown in the figure above, could also be antibody-derived tags, etc.). \n",
    "        - You can see which assay is the currently active assay by looking in the `active.assay` slot and switch between them using the `DefaultAssay()` function.\n",
    "        - Each assay will store multiple transformations of the data in different slots -- in the case of `RNA` data these slots are: \n",
    "            - `@counts` contains the raw counts.\n",
    "            - `@data` contains the normalized counts.\n",
    "            - `@scale.data` contains the scaled data for dimensional reduction.\n",
    "        - The slots store the data as a sparse matrix where the rows are gene and the columns are cells.      \n",
    "    - **`meta.data`** is a matrix of all the cell-level metadata.\n",
    "        - This will include information about which condition, timepoint, batch, etc. a for a given cell.\n",
    "        - It also includes metrics that will be relevant for QC, like `nCount_RNA` and `nFeature_RNA`\n",
    "            - `nCount_RNA` is the total number of molecules (UMIs) detected within a cell.\n",
    "            - `nFeature_RNA` is the total number of genes detected within a cell.\n",
    "        - Once you have completed clustering, you'll also see information about which cluster each cell has been assigned to.\n",
    "        - The different categories or columns in the `meta.data` are also called `Idents` in Seurat.\n",
    "        - You can see the current `Ident` in the `active.ident` slot and switch between them using the `Idents()` function (this will probably be important for running differential expression testing).\n",
    "    - **`graphs`** is a list of the nearest neighbor graphs.\n",
    "        - The objects stored in `graphs` are cell x cell matrices containing the neighborhood overlap (Jaccard index) between every cell and its nearest neighbors. \n",
    "    - **`reductions`** is a list of `DimReduc` objects.\n",
    "    - **`version`** contains information about which version of Seurat was used to make the object.\n",
    "    - There are other optional slots, including **`tools`** and **`misc`** that can be populated by specific analysis tools (`tools`) or users can store their own additional information (`misc`)."
   ]
  },
  {
   "cell_type": "markdown",
   "metadata": {},
   "source": [
    "### Importing Data"
   ]
  },
  {
   "cell_type": "markdown",
   "metadata": {},
   "source": [
    "Set a seed and import packages, set libPaths "
   ]
  },
  {
   "cell_type": "code",
   "execution_count": 4,
   "metadata": {},
   "outputs": [
    {
     "name": "stderr",
     "output_type": "stream",
     "text": [
      "Warning message in install.packages(\"Seurat\", repos = \"http://cran.us.r-project.org\"):\n",
      "“'lib = \"/opt/conda/lib/R/library\"' is not writable”\n"
     ]
    },
    {
     "ename": "ERROR",
     "evalue": "Error in install.packages(\"Seurat\", repos = \"http://cran.us.r-project.org\"): unable to install packages\n",
     "output_type": "error",
     "traceback": [
      "Error in install.packages(\"Seurat\", repos = \"http://cran.us.r-project.org\"): unable to install packages\nTraceback:\n",
      "1. install.packages(\"Seurat\", repos = \"http://cran.us.r-project.org\")",
      "2. stop(\"unable to install packages\")"
     ]
    }
   ],
   "source": [
    "install.packages(\"Seurat\", repos='http://cran.us.r-project.org')"
   ]
  },
  {
   "cell_type": "code",
   "execution_count": 1,
   "metadata": {},
   "outputs": [
    {
     "ename": "ERROR",
     "evalue": "Error in library(Seurat): there is no package called ‘Seurat’\n",
     "output_type": "error",
     "traceback": [
      "Error in library(Seurat): there is no package called ‘Seurat’\nTraceback:\n",
      "1. library(Seurat)"
     ]
    }
   ],
   "source": [
    "set.seed(61)\n",
    "#.libPaths(c('/opt/conda/lib/R/library'))\n",
    "library(Seurat)\n",
    "library(RColorBrewer)\n",
    "library(Seurat)\n",
    "library(patchwork)\n",
    "library(ggplot2)\n",
    "library(dplyr)\n",
    "library(hdf5r)\n",
    "library(stringr)\n",
    "library(biomaRt)\n",
    "library(kableExtra)\n",
    "library(SeuratDisk)"
   ]
  },
  {
   "cell_type": "code",
   "execution_count": 3,
   "metadata": {},
   "outputs": [
    {
     "data": {
      "text/html": [
       "'/opt/conda/lib/R/library'"
      ],
      "text/latex": [
       "'/opt/conda/lib/R/library'"
      ],
      "text/markdown": [
       "'/opt/conda/lib/R/library'"
      ],
      "text/plain": [
       "[1] \"/opt/conda/lib/R/library\""
      ]
     },
     "metadata": {},
     "output_type": "display_data"
    },
    {
     "data": {
      "text/html": [
       "<table>\n",
       "<caption>A matrix: 457 × 16 of type chr</caption>\n",
       "<thead>\n",
       "\t<tr><th></th><th scope=col>Package</th><th scope=col>LibPath</th><th scope=col>Version</th><th scope=col>Priority</th><th scope=col>Depends</th><th scope=col>Imports</th><th scope=col>LinkingTo</th><th scope=col>Suggests</th><th scope=col>Enhances</th><th scope=col>License</th><th scope=col>License_is_FOSS</th><th scope=col>License_restricts_use</th><th scope=col>OS_type</th><th scope=col>MD5sum</th><th scope=col>NeedsCompilation</th><th scope=col>Built</th></tr>\n",
       "</thead>\n",
       "<tbody>\n",
       "\t<tr><th scope=row>abind</th><td><span style=white-space:pre-wrap>abind           </span></td><td>/opt/conda/lib/R/library</td><td><span style=white-space:pre-wrap>1.4-5   </span></td><td><span style=white-space:pre-wrap>NA  </span></td><td><span style=white-space:pre-wrap>R (&gt;= 1.5.0)                                                                                                      </span></td><td><span style=white-space:pre-wrap>methods, utils                                                                                                                                                                                     </span></td><td><span style=white-space:pre-wrap>NA                         </span></td><td><span style=white-space:pre-wrap>NA                                                                                                                                                                                                                                                                                 </span></td><td><span style=white-space:pre-wrap>NA                              </span></td><td><span style=white-space:pre-wrap>LGPL (&gt;= 2)            </span></td><td>NA</td><td>NA</td><td>NA</td><td>NA</td><td>no </td><td>4.0.0</td></tr>\n",
       "\t<tr><th scope=row>annotate</th><td><span style=white-space:pre-wrap>annotate        </span></td><td>/opt/conda/lib/R/library</td><td><span style=white-space:pre-wrap>1.68.0  </span></td><td><span style=white-space:pre-wrap>NA  </span></td><td><span style=white-space:pre-wrap>R (&gt;= 2.10), AnnotationDbi (&gt;= 1.27.5), XML                                                                       </span></td><td><span style=white-space:pre-wrap>Biobase, DBI, xtable, graphics, utils, stats, methods,\n",
       "BiocGenerics (&gt;= 0.13.8), httr                                                                                                             </span></td><td><span style=white-space:pre-wrap>NA                         </span></td><td><span style=white-space:pre-wrap>hgu95av2.db, genefilter, Biostrings (&gt;= 2.25.10), IRanges,\n",
       "rae230a.db, rae230aprobe, tkWidgets, GO.db, org.Hs.eg.db,\n",
       "org.Mm.eg.db, hom.Hs.inp.db, humanCHRLOC, Rgraphviz, RUnit,                                                                                                 </span></td><td><span style=white-space:pre-wrap>NA                              </span></td><td><span style=white-space:pre-wrap>Artistic-2.0           </span></td><td>NA</td><td>NA</td><td>NA</td><td>NA</td><td>no </td><td>4.0.0</td></tr>\n",
       "\t<tr><th scope=row>AnnotationDbi</th><td><span style=white-space:pre-wrap>AnnotationDbi   </span></td><td>/opt/conda/lib/R/library</td><td><span style=white-space:pre-wrap>1.52.0  </span></td><td><span style=white-space:pre-wrap>NA  </span></td><td><span style=white-space:pre-wrap>R (&gt;= 2.7.0), methods, utils, stats4, BiocGenerics (&gt;=\n",
       "0.29.2), Biobase (&gt;= 1.17.0), IRanges                     </span></td><td><span style=white-space:pre-wrap>DBI, RSQLite, S4Vectors (&gt;= 0.9.25)                                                                                                                                                                </span></td><td><span style=white-space:pre-wrap>NA                         </span></td><td><span style=white-space:pre-wrap>hgu95av2.db, GO.db, org.Sc.sgd.db, org.At.tair.db, KEGG.db,\n",
       "RUnit, TxDb.Hsapiens.UCSC.hg19.knownGene, hom.Hs.inp.db,\n",
       "org.Hs.eg.db, reactome.db, AnnotationForge, graph,\n",
       "EnsDb.Hsapiens.v75, BiocStyle, knitr                                                                    </span></td><td><span style=white-space:pre-wrap>NA                              </span></td><td><span style=white-space:pre-wrap>Artistic-2.0           </span></td><td>NA</td><td>NA</td><td>NA</td><td>NA</td><td>no </td><td>4.0.0</td></tr>\n",
       "\t<tr><th scope=row>AnnotationFilter</th><td>AnnotationFilter</td><td>/opt/conda/lib/R/library</td><td><span style=white-space:pre-wrap>1.14.0  </span></td><td><span style=white-space:pre-wrap>NA  </span></td><td><span style=white-space:pre-wrap>R (&gt;= 3.4.0)                                                                                                      </span></td><td><span style=white-space:pre-wrap>utils, methods, GenomicRanges, lazyeval                                                                                                                                                            </span></td><td><span style=white-space:pre-wrap>NA                         </span></td><td><span style=white-space:pre-wrap>BiocStyle, knitr, testthat, RSQLite, org.Hs.eg.db                                                                                                                                                                                                                                  </span></td><td><span style=white-space:pre-wrap>NA                              </span></td><td><span style=white-space:pre-wrap>Artistic-2.0           </span></td><td>NA</td><td>NA</td><td>NA</td><td>NA</td><td>no </td><td>4.0.0</td></tr>\n",
       "\t<tr><th scope=row>AnnotationHub</th><td><span style=white-space:pre-wrap>AnnotationHub   </span></td><td>/opt/conda/lib/R/library</td><td><span style=white-space:pre-wrap>2.22.1  </span></td><td><span style=white-space:pre-wrap>NA  </span></td><td><span style=white-space:pre-wrap>BiocGenerics (&gt;= 0.15.10), BiocFileCache (&gt;= 1.5.1)                                                               </span></td><td><span style=white-space:pre-wrap>utils, methods, grDevices, RSQLite, BiocManager, BiocVersion,\n",
       "curl, rappdirs, AnnotationDbi (&gt;= 1.31.19), S4Vectors,\n",
       "interactiveDisplayBase, httr, yaml, dplyr                                   </span></td><td><span style=white-space:pre-wrap>NA                         </span></td><td><span style=white-space:pre-wrap>IRanges, GenomicRanges, GenomeInfoDb, VariantAnnotation,\n",
       "Rsamtools, rtracklayer, BiocStyle, knitr, AnnotationForge,\n",
       "rBiopaxParser, RUnit, GenomicFeatures, MSnbase, mzR,\n",
       "Biostrings, SummarizedExperiment, ExperimentHub, gdsfmt,\n",
       "rmarkdown                                    </span></td><td><span style=white-space:pre-wrap>AnnotationHubData               </span></td><td><span style=white-space:pre-wrap>Artistic-2.0           </span></td><td>NA</td><td>NA</td><td>NA</td><td>NA</td><td>yes</td><td>4.0.0</td></tr>\n",
       "\t<tr><th scope=row>arrow</th><td><span style=white-space:pre-wrap>arrow           </span></td><td>/opt/conda/lib/R/library</td><td><span style=white-space:pre-wrap>8.0.0   </span></td><td><span style=white-space:pre-wrap>NA  </span></td><td><span style=white-space:pre-wrap>R (&gt;= 3.4)                                                                                                        </span></td><td><span style=white-space:pre-wrap>assertthat, bit64 (&gt;= 0.9-7), methods, purrr, R6, rlang,\n",
       "stats, tidyselect (&gt;= 1.0.0), utils, vctrs                                                                                               </span></td><td><span style=white-space:pre-wrap>cpp11 (&gt;= 0.4.2)           </span></td><td><span style=white-space:pre-wrap>DBI, dbplyr, decor, distro, dplyr, duckdb (&gt;= 0.2.8), hms,\n",
       "knitr, lubridate, pkgload, reticulate, rmarkdown, stringi,\n",
       "stringr, testthat (&gt;= 3.1.0), tibble, tzdb, withr                                                                                                          </span></td><td><span style=white-space:pre-wrap>NA                              </span></td><td>Apache License (&gt;= 2.0)</td><td>NA</td><td>NA</td><td>NA</td><td>NA</td><td>yes</td><td>4.0.0</td></tr>\n",
       "\t<tr><th scope=row>askpass</th><td><span style=white-space:pre-wrap>askpass         </span></td><td>/opt/conda/lib/R/library</td><td><span style=white-space:pre-wrap>1.1     </span></td><td><span style=white-space:pre-wrap>NA  </span></td><td><span style=white-space:pre-wrap>NA                                                                                                                </span></td><td><span style=white-space:pre-wrap>sys (&gt;= 2.1)                                                                                                                                                                                       </span></td><td><span style=white-space:pre-wrap>NA                         </span></td><td><span style=white-space:pre-wrap>testthat                                                                                                                                                                                                                                                                           </span></td><td><span style=white-space:pre-wrap>NA                              </span></td><td><span style=white-space:pre-wrap>MIT + file LICENSE     </span></td><td>NA</td><td>NA</td><td>NA</td><td>NA</td><td>yes</td><td>4.0.0</td></tr>\n",
       "\t<tr><th scope=row>assertthat</th><td>assertthat      </td><td>/opt/conda/lib/R/library</td><td>0.2.1   </td><td>NA  </td><td>NA                                                                                                                </td><td>tools                                                                                                                                                                                              </td><td>NA                         </td><td>testthat, covr                                                                                                                                                                                                                                                                     </td><td>NA                              </td><td>GPL-3                  </td><td>NA</td><td>NA</td><td>NA</td><td>NA</td><td>no </td><td>4.0.0</td></tr>\n",
       "\t<tr><th scope=row>AUCell</th><td>AUCell          </td><td>/opt/conda/lib/R/library</td><td>1.12.0  </td><td>NA  </td><td>NA                                                                                                                </td><td>data.table, graphics, grDevices, GSEABase, methods, mixtools,\n",
       "R.utils, shiny, stats, SummarizedExperiment, BiocGenerics,\n",
       "S4Vectors, utils                                                        </td><td>NA                         </td><td>Biobase, BiocStyle, doSNOW, dynamicTreeCut, DT, GEOquery,\n",
       "knitr, NMF, plyr, R2HTML, rmarkdown, reshape2, plotly, rbokeh,\n",
       "devtools, Rtsne, tsne, testthat, zoo                                                                                                                    </td><td>doMC, doRNG, doParallel, foreach</td><td>GPL-3                  </td><td>NA</td><td>NA</td><td>NA</td><td>NA</td><td>no </td><td>4.0.0</td></tr>\n",
       "\t<tr><th scope=row>backports</th><td><span style=white-space:pre-wrap>backports       </span></td><td>/opt/conda/lib/R/library</td><td><span style=white-space:pre-wrap>1.1.8   </span></td><td><span style=white-space:pre-wrap>NA  </span></td><td><span style=white-space:pre-wrap>R (&gt;= 3.0.0)                                                                                                      </span></td><td><span style=white-space:pre-wrap>utils                                                                                                                                                                                              </span></td><td><span style=white-space:pre-wrap>NA                         </span></td><td><span style=white-space:pre-wrap>NA                                                                                                                                                                                                                                                                                 </span></td><td><span style=white-space:pre-wrap>NA                              </span></td><td><span style=white-space:pre-wrap>GPL-2 | GPL-3          </span></td><td>NA</td><td>NA</td><td>NA</td><td>NA</td><td>yes</td><td>4.0.1</td></tr>\n",
       "\t<tr><th scope=row>base</th><td>base            </td><td>/opt/conda/lib/R/library</td><td>4.0.0   </td><td>base</td><td>NA                                                                                                                </td><td>NA                                                                                                                                                                                                 </td><td>NA                         </td><td>methods                                                                                                                                                                                                                                                                            </td><td>NA                              </td><td>Part of R 4.0.0        </td><td>NA</td><td>NA</td><td>NA</td><td>NA</td><td>NA </td><td>4.0.0</td></tr>\n",
       "\t<tr><th scope=row>base64enc</th><td><span style=white-space:pre-wrap>base64enc       </span></td><td>/opt/conda/lib/R/library</td><td><span style=white-space:pre-wrap>0.1-3   </span></td><td><span style=white-space:pre-wrap>NA  </span></td><td><span style=white-space:pre-wrap>R (&gt;= 2.9.0)                                                                                                      </span></td><td><span style=white-space:pre-wrap>NA                                                                                                                                                                                                 </span></td><td><span style=white-space:pre-wrap>NA                         </span></td><td><span style=white-space:pre-wrap>NA                                                                                                                                                                                                                                                                                 </span></td><td><span style=white-space:pre-wrap>png                             </span></td><td><span style=white-space:pre-wrap>GPL-2 | GPL-3          </span></td><td>NA</td><td>NA</td><td>NA</td><td>NA</td><td>yes</td><td>4.0.0</td></tr>\n",
       "\t<tr><th scope=row>batchelor</th><td>batchelor       </td><td>/opt/conda/lib/R/library</td><td>1.6.3   </td><td>NA  </td><td>SingleCellExperiment                                                                                              </td><td>SummarizedExperiment, S4Vectors, BiocGenerics, Rcpp, stats,\n",
       "methods, utils, igraph, BiocNeighbors, BiocSingular, Matrix,\n",
       "DelayedArray, DelayedMatrixStats, BiocParallel, scuttle,\n",
       "ResidualMatrix</td><td>Rcpp                       </td><td>testthat, BiocStyle, knitr, rmarkdown, scran, scater,\n",
       "bluster, scRNAseq                                                                                                                                                                                                           </td><td>NA                              </td><td>GPL-3                  </td><td>NA</td><td>NA</td><td>NA</td><td>NA</td><td>yes</td><td>4.0.0</td></tr>\n",
       "\t<tr><th scope=row>bayesplot</th><td><span style=white-space:pre-wrap>bayesplot       </span></td><td>/opt/conda/lib/R/library</td><td><span style=white-space:pre-wrap>1.7.2   </span></td><td><span style=white-space:pre-wrap>NA  </span></td><td><span style=white-space:pre-wrap>R (&gt;= 3.1.0)                                                                                                      </span></td><td><span style=white-space:pre-wrap>dplyr (&gt;= 0.8.0), ggplot2 (&gt;= 3.0.0), ggridges, glue,\n",
       "reshape2, rlang (&gt;= 0.3.0), stats, tibble, tidyselect, utils                                                                                </span></td><td><span style=white-space:pre-wrap>NA                         </span></td><td><span style=white-space:pre-wrap>gridExtra (&gt;= 2.2.1), hexbin, knitr (&gt;= 1.16), loo (&gt;=\n",
       "2.0.0), RColorBrewer, rmarkdown (&gt;= 1.0.0), rstan (&gt;= 2.17.1),\n",
       "rstanarm (&gt;= 2.17.4), rstantools (&gt;= 1.5.0), scales, shinystan\n",
       "(&gt;= 2.3.0), testthat (&gt;= 2.0.0), vdiffr                                                    </span></td><td><span style=white-space:pre-wrap>NA                              </span></td><td><span style=white-space:pre-wrap>GPL (&gt;= 3)             </span></td><td>NA</td><td>NA</td><td>NA</td><td>NA</td><td>no </td><td>4.0.0</td></tr>\n",
       "\t<tr><th scope=row>beachmat</th><td><span style=white-space:pre-wrap>beachmat        </span></td><td>/opt/conda/lib/R/library</td><td><span style=white-space:pre-wrap>2.6.4   </span></td><td><span style=white-space:pre-wrap>NA  </span></td><td><span style=white-space:pre-wrap>NA                                                                                                                </span></td><td><span style=white-space:pre-wrap>methods, DelayedArray (&gt;= 0.15.14), BiocGenerics, Matrix                                                                                                                                           </span></td><td><span style=white-space:pre-wrap>NA                         </span></td><td><span style=white-space:pre-wrap>testthat, BiocStyle, knitr, rmarkdown, rcmdcheck,\n",
       "BiocParallel                                                                                                                                                                                                                    </span></td><td><span style=white-space:pre-wrap>NA                              </span></td><td><span style=white-space:pre-wrap>GPL-3                  </span></td><td>NA</td><td>NA</td><td>NA</td><td>NA</td><td>yes</td><td>4.0.0</td></tr>\n",
       "\t<tr><th scope=row>beeswarm</th><td>beeswarm        </td><td>/opt/conda/lib/R/library</td><td>0.4.0   </td><td>NA  </td><td>NA                                                                                                                </td><td>stats, graphics, grDevices, utils                                                                                                                                                                  </td><td>NA                         </td><td>NA                                                                                                                                                                                                                                                                                 </td><td>NA                              </td><td>Artistic-2.0           </td><td>NA</td><td>NA</td><td>NA</td><td>NA</td><td>yes</td><td>4.0.0</td></tr>\n",
       "\t<tr><th scope=row>BH</th><td>BH              </td><td>/opt/conda/lib/R/library</td><td>1.78.0-0</td><td>NA  </td><td>NA                                                                                                                </td><td>NA                                                                                                                                                                                                 </td><td>NA                         </td><td>NA                                                                                                                                                                                                                                                                                 </td><td>NA                              </td><td>BSL-1.0                </td><td>NA</td><td>NA</td><td>NA</td><td>NA</td><td>no </td><td>4.0.0</td></tr>\n",
       "\t<tr><th scope=row>Biobase</th><td><span style=white-space:pre-wrap>Biobase         </span></td><td>/opt/conda/lib/R/library</td><td><span style=white-space:pre-wrap>2.50.0  </span></td><td><span style=white-space:pre-wrap>NA  </span></td><td><span style=white-space:pre-wrap>R (&gt;= 2.10), BiocGenerics (&gt;= 0.27.1), utils                                                                      </span></td><td><span style=white-space:pre-wrap>methods                                                                                                                                                                                            </span></td><td><span style=white-space:pre-wrap>NA                         </span></td><td><span style=white-space:pre-wrap>tools, tkWidgets, ALL, RUnit, golubEsets                                                                                                                                                                                                                                           </span></td><td><span style=white-space:pre-wrap>NA                              </span></td><td><span style=white-space:pre-wrap>Artistic-2.0           </span></td><td>NA</td><td>NA</td><td>NA</td><td>NA</td><td>yes</td><td>4.0.0</td></tr>\n",
       "\t<tr><th scope=row>BiocFileCache</th><td><span style=white-space:pre-wrap>BiocFileCache   </span></td><td>/opt/conda/lib/R/library</td><td><span style=white-space:pre-wrap>1.14.0  </span></td><td><span style=white-space:pre-wrap>NA  </span></td><td><span style=white-space:pre-wrap>R (&gt;= 3.4.0), dbplyr (&gt;= 1.0.0)                                                                                   </span></td><td><span style=white-space:pre-wrap>methods, stats, utils, dplyr, RSQLite, DBI, rappdirs, curl,\n",
       "httr                                                                                                                                  </span></td><td><span style=white-space:pre-wrap>NA                         </span></td><td><span style=white-space:pre-wrap>testthat, knitr, BiocStyle, rmarkdown, rtracklayer                                                                                                                                                                                                                                 </span></td><td><span style=white-space:pre-wrap>NA                              </span></td><td><span style=white-space:pre-wrap>Artistic-2.0           </span></td><td>NA</td><td>NA</td><td>NA</td><td>NA</td><td>no </td><td>4.0.0</td></tr>\n",
       "\t<tr><th scope=row>BiocGenerics</th><td><span style=white-space:pre-wrap>BiocGenerics    </span></td><td>/opt/conda/lib/R/library</td><td><span style=white-space:pre-wrap>0.36.1  </span></td><td><span style=white-space:pre-wrap>NA  </span></td><td><span style=white-space:pre-wrap>R (&gt;= 4.0.0), methods, utils, graphics, stats, parallel                                                           </span></td><td><span style=white-space:pre-wrap>methods, utils, graphics, stats, parallel                                                                                                                                                          </span></td><td><span style=white-space:pre-wrap>NA                         </span></td><td><span style=white-space:pre-wrap>Biobase, S4Vectors, IRanges, GenomicRanges, DelayedArray,\n",
       "Biostrings, Rsamtools, AnnotationDbi, affy, affyPLM, DESeq2,\n",
       "flowClust, MSnbase, annotate, RUnit                                                                                                                       </span></td><td><span style=white-space:pre-wrap>NA                              </span></td><td><span style=white-space:pre-wrap>Artistic-2.0           </span></td><td>NA</td><td>NA</td><td>NA</td><td>NA</td><td>no </td><td>4.0.0</td></tr>\n",
       "\t<tr><th scope=row>BiocManager</th><td>BiocManager     </td><td>/opt/conda/lib/R/library</td><td>1.30.18 </td><td>NA  </td><td>NA                                                                                                                </td><td>utils                                                                                                                                                                                              </td><td>NA                         </td><td>BiocVersion, remotes, rmarkdown, testthat, withr, curl, knitr                                                                                                                                                                                                                      </td><td>NA                              </td><td>Artistic-2.0           </td><td>NA</td><td>NA</td><td>NA</td><td>NA</td><td>no </td><td>4.0.0</td></tr>\n",
       "\t<tr><th scope=row>BiocNeighbors</th><td>BiocNeighbors   </td><td>/opt/conda/lib/R/library</td><td>1.8.2   </td><td>NA  </td><td>NA                                                                                                                </td><td>Rcpp, S4Vectors, BiocParallel, stats, methods, Matrix                                                                                                                                              </td><td>Rcpp, RcppHNSW             </td><td>testthat, BiocStyle, knitr, rmarkdown, FNN, RcppAnnoy,\n",
       "RcppHNSW                                                                                                                                                                                                                   </td><td>NA                              </td><td>GPL-3                  </td><td>NA</td><td>NA</td><td>NA</td><td>NA</td><td>yes</td><td>4.0.0</td></tr>\n",
       "\t<tr><th scope=row>BiocParallel</th><td>BiocParallel    </td><td>/opt/conda/lib/R/library</td><td>1.24.1  </td><td>NA  </td><td>methods                                                                                                           </td><td>stats, utils, futile.logger, parallel, snow                                                                                                                                                        </td><td>BH                         </td><td>BiocGenerics, tools, foreach, BatchJobs, BBmisc, doParallel,\n",
       "Rmpi, GenomicRanges, RNAseqData.HNRNPC.bam.chr14,\n",
       "TxDb.Hsapiens.UCSC.hg19.knownGene, VariantAnnotation,\n",
       "Rsamtools, GenomicAlignments, ShortRead, codetools, RUnit,\n",
       "BiocStyle, knitr, batchtools, data.table       </td><td>NA                              </td><td>GPL-2 | GPL-3          </td><td>NA</td><td>NA</td><td>NA</td><td>NA</td><td>yes</td><td>4.0.0</td></tr>\n",
       "\t<tr><th scope=row>BiocSingular</th><td>BiocSingular    </td><td>/opt/conda/lib/R/library</td><td>1.6.0   </td><td>NA  </td><td>NA                                                                                                                </td><td>BiocGenerics, S4Vectors, Matrix, methods, utils, DelayedArray,\n",
       "BiocParallel, irlba, rsvd, Rcpp, beachmat                                                                                          </td><td>Rcpp, beachmat             </td><td>testthat, BiocStyle, knitr, rmarkdown, ResidualMatrix                                                                                                                                                                                                                              </td><td>NA                              </td><td>GPL-3                  </td><td>NA</td><td>NA</td><td>NA</td><td>NA</td><td>yes</td><td>4.0.0</td></tr>\n",
       "\t<tr><th scope=row>BiocVersion</th><td><span style=white-space:pre-wrap>BiocVersion     </span></td><td>/opt/conda/lib/R/library</td><td><span style=white-space:pre-wrap>3.12.0  </span></td><td><span style=white-space:pre-wrap>NA  </span></td><td><span style=white-space:pre-wrap>R (&gt;= 4.0.0)                                                                                                      </span></td><td><span style=white-space:pre-wrap>NA                                                                                                                                                                                                 </span></td><td><span style=white-space:pre-wrap>NA                         </span></td><td><span style=white-space:pre-wrap>NA                                                                                                                                                                                                                                                                                 </span></td><td><span style=white-space:pre-wrap>NA                              </span></td><td><span style=white-space:pre-wrap>Artistic-2.0           </span></td><td>NA</td><td>NA</td><td>NA</td><td>NA</td><td>no </td><td>4.0.0</td></tr>\n",
       "\t<tr><th scope=row>biomaRt</th><td>biomaRt         </td><td>/opt/conda/lib/R/library</td><td>2.46.3  </td><td>NA  </td><td>methods                                                                                                           </td><td>utils, XML, AnnotationDbi, progress, stringr, httr, openssl,\n",
       "BiocFileCache, rappdirs, xml2                                                                                                        </td><td>NA                         </td><td>annotate, BiocStyle, knitr, rmarkdown, testthat, mockery                                                                                                                                                                                                                           </td><td>NA                              </td><td>Artistic-2.0           </td><td>NA</td><td>NA</td><td>NA</td><td>NA</td><td>no </td><td>4.0.0</td></tr>\n",
       "\t<tr><th scope=row>Biostrings</th><td><span style=white-space:pre-wrap>Biostrings      </span></td><td>/opt/conda/lib/R/library</td><td><span style=white-space:pre-wrap>2.58.0  </span></td><td><span style=white-space:pre-wrap>NA  </span></td><td>R (&gt;= 3.5.0), methods, BiocGenerics (&gt;= 0.31.5), S4Vectors (&gt;=\n",
       "0.27.12), IRanges (&gt;= 2.23.9), XVector (&gt;= 0.29.2)</td><td><span style=white-space:pre-wrap>methods, utils, grDevices, graphics, stats, crayon                                                                                                                                                 </span></td><td>S4Vectors, IRanges, XVector</td><td>BSgenome (&gt;= 1.13.14), BSgenome.Celegans.UCSC.ce2 (&gt;=\n",
       "1.3.11), BSgenome.Dmelanogaster.UCSC.dm3 (&gt;= 1.3.11),\n",
       "BSgenome.Hsapiens.UCSC.hg18, drosophila2probe, hgu95av2probe,\n",
       "hgu133aprobe, GenomicFeatures (&gt;= 1.3.14), hgu95av2cdf, affy\n",
       "(&gt;= 1.41.3), affydata (&gt;= 1.11.5), RUnit</td><td><span style=white-space:pre-wrap>Rmpi                            </span></td><td><span style=white-space:pre-wrap>Artistic-2.0           </span></td><td>NA</td><td>NA</td><td>NA</td><td>NA</td><td>yes</td><td>4.0.0</td></tr>\n",
       "\t<tr><th scope=row>bit</th><td><span style=white-space:pre-wrap>bit             </span></td><td>/opt/conda/lib/R/library</td><td><span style=white-space:pre-wrap>4.0.4   </span></td><td><span style=white-space:pre-wrap>NA  </span></td><td><span style=white-space:pre-wrap>R (&gt;= 2.9.2)                                                                                                      </span></td><td><span style=white-space:pre-wrap>NA                                                                                                                                                                                                 </span></td><td><span style=white-space:pre-wrap>NA                         </span></td><td><span style=white-space:pre-wrap>testthat (&gt;= 0.11.0), roxygen2, knitr, rmarkdown,\n",
       "microbenchmark, bit64 (&gt;= 4.0.0), ff (&gt;= 4.0.0)                                                                                                                                                                                 </span></td><td><span style=white-space:pre-wrap>NA                              </span></td><td><span style=white-space:pre-wrap>GPL-2 | GPL-3          </span></td><td>NA</td><td>NA</td><td>NA</td><td>NA</td><td>yes</td><td>4.0.0</td></tr>\n",
       "\t<tr><th scope=row>bit64</th><td><span style=white-space:pre-wrap>bit64           </span></td><td>/opt/conda/lib/R/library</td><td><span style=white-space:pre-wrap>4.0.5   </span></td><td><span style=white-space:pre-wrap>NA  </span></td><td><span style=white-space:pre-wrap>R (&gt;= 3.0.1), bit (&gt;= 4.0.0), utils, methods, stats                                                               </span></td><td><span style=white-space:pre-wrap>NA                                                                                                                                                                                                 </span></td><td><span style=white-space:pre-wrap>NA                         </span></td><td><span style=white-space:pre-wrap>NA                                                                                                                                                                                                                                                                                 </span></td><td><span style=white-space:pre-wrap>NA                              </span></td><td><span style=white-space:pre-wrap>GPL-2 | GPL-3          </span></td><td>NA</td><td>NA</td><td>NA</td><td>NA</td><td>yes</td><td>4.0.0</td></tr>\n",
       "\t<tr><th scope=row>bitops</th><td><span style=white-space:pre-wrap>bitops          </span></td><td>/opt/conda/lib/R/library</td><td><span style=white-space:pre-wrap>1.0-7   </span></td><td><span style=white-space:pre-wrap>NA  </span></td><td><span style=white-space:pre-wrap>NA                                                                                                                </span></td><td><span style=white-space:pre-wrap>NA                                                                                                                                                                                                 </span></td><td><span style=white-space:pre-wrap>NA                         </span></td><td><span style=white-space:pre-wrap>NA                                                                                                                                                                                                                                                                                 </span></td><td><span style=white-space:pre-wrap>NA                              </span></td><td><span style=white-space:pre-wrap>GPL (&gt;= 2)             </span></td><td>NA</td><td>NA</td><td>NA</td><td>NA</td><td>yes</td><td>4.0.0</td></tr>\n",
       "\t<tr><th scope=row>⋮</th><td>⋮</td><td>⋮</td><td>⋮</td><td>⋮</td><td>⋮</td><td>⋮</td><td>⋮</td><td>⋮</td><td>⋮</td><td>⋮</td><td>⋮</td><td>⋮</td><td>⋮</td><td>⋮</td><td>⋮</td><td>⋮</td></tr>\n",
       "\t<tr><th scope=row>utils</th><td>utils       </td><td>/opt/conda/lib/R/library</td><td>4.0.0   </td><td>base</td><td>NA                                                                                           </td><td>NA                                                                                                                                                   </td><td>NA                                                    </td><td>methods, xml2, commonmark                                                                                                                                                                           </td><td>NA</td><td>Part of R 4.0.0            </td><td>NA</td><td>NA</td><td>NA</td><td>NA</td><td>yes</td><td>4.0.0</td></tr>\n",
       "\t<tr><th scope=row>uuid</th><td><span style=white-space:pre-wrap>uuid        </span></td><td>/opt/conda/lib/R/library</td><td><span style=white-space:pre-wrap>0.1-4   </span></td><td><span style=white-space:pre-wrap>NA  </span></td><td><span style=white-space:pre-wrap>R (&gt;= 2.9.0)                                                                                 </span></td><td><span style=white-space:pre-wrap>NA                                                                                                                                                   </span></td><td><span style=white-space:pre-wrap>NA                                                    </span></td><td><span style=white-space:pre-wrap>NA                                                                                                                                                                                                  </span></td><td>NA</td><td><span style=white-space:pre-wrap>MIT + file LICENSE         </span></td><td>NA</td><td>NA</td><td>NA</td><td>NA</td><td>yes</td><td>4.0.0</td></tr>\n",
       "\t<tr><th scope=row>uwot</th><td><span style=white-space:pre-wrap>uwot        </span></td><td>/opt/conda/lib/R/library</td><td><span style=white-space:pre-wrap>0.1.11  </span></td><td><span style=white-space:pre-wrap>NA  </span></td><td><span style=white-space:pre-wrap>Matrix                                                                                       </span></td><td><span style=white-space:pre-wrap>Rcpp, methods, FNN, RSpectra, RcppAnnoy (&gt;= 0.0.17), irlba                                                                                           </span></td><td><span style=white-space:pre-wrap>Rcpp, RcppProgress, RcppAnnoy, dqrng                  </span></td><td><span style=white-space:pre-wrap>testthat, covr, bigstatsr                                                                                                                                                                           </span></td><td>NA</td><td><span style=white-space:pre-wrap>GPL (&gt;= 3)                 </span></td><td>NA</td><td>NA</td><td>NA</td><td>NA</td><td>yes</td><td>4.0.0</td></tr>\n",
       "\t<tr><th scope=row>vctrs</th><td><span style=white-space:pre-wrap>vctrs       </span></td><td>/opt/conda/lib/R/library</td><td><span style=white-space:pre-wrap>0.4.1   </span></td><td><span style=white-space:pre-wrap>NA  </span></td><td><span style=white-space:pre-wrap>R (&gt;= 3.3)                                                                                   </span></td><td><span style=white-space:pre-wrap>cli (&gt;= 3.2.0), glue, rlang (&gt;= 1.0.2)                                                                                                               </span></td><td><span style=white-space:pre-wrap>NA                                                    </span></td><td><span style=white-space:pre-wrap>bit64, covr, crayon, dplyr (&gt;= 0.8.5), generics, knitr,\n",
       "pillar (&gt;= 1.4.4), pkgdown (&gt;= 2.0.1), rmarkdown, testthat (&gt;=\n",
       "3.0.0), tibble (&gt;= 3.1.3), withr, xml2, waldo (&gt;= 0.2.0),\n",
       "zeallot         </span></td><td>NA</td><td><span style=white-space:pre-wrap>MIT + file LICENSE         </span></td><td>NA</td><td>NA</td><td>NA</td><td>NA</td><td>yes</td><td>4.0.0</td></tr>\n",
       "\t<tr><th scope=row>vipor</th><td><span style=white-space:pre-wrap>vipor       </span></td><td>/opt/conda/lib/R/library</td><td><span style=white-space:pre-wrap>0.4.5   </span></td><td><span style=white-space:pre-wrap>NA  </span></td><td><span style=white-space:pre-wrap>R (&gt;= 3.0.0)                                                                                 </span></td><td><span style=white-space:pre-wrap>stats, graphics                                                                                                                                      </span></td><td><span style=white-space:pre-wrap>NA                                                    </span></td><td><span style=white-space:pre-wrap>testthat, beeswarm, lattice, ggplot2, beanplot, vioplot,\n",
       "ggbeeswarm,                                                                                                                               </span></td><td>NA</td><td><span style=white-space:pre-wrap>GPL (&gt;= 2)                 </span></td><td>NA</td><td>NA</td><td>NA</td><td>NA</td><td>no </td><td>4.0.0</td></tr>\n",
       "\t<tr><th scope=row>viridis</th><td><span style=white-space:pre-wrap>viridis     </span></td><td>/opt/conda/lib/R/library</td><td><span style=white-space:pre-wrap>0.6.2   </span></td><td><span style=white-space:pre-wrap>NA  </span></td><td><span style=white-space:pre-wrap>R (&gt;= 2.10), viridisLite (&gt;= 0.4.0)                                                          </span></td><td><span style=white-space:pre-wrap>stats, ggplot2 (&gt;= 1.0.1), gridExtra                                                                                                                 </span></td><td><span style=white-space:pre-wrap>NA                                                    </span></td><td><span style=white-space:pre-wrap>hexbin (&gt;= 1.27.0), scales, MASS, knitr, dichromat,\n",
       "colorspace, raster, rasterVis, httr, mapproj, vdiffr, svglite\n",
       "(&gt;= 1.2.0), testthat, covr, rmarkdown, rgdal, maps                              </span></td><td>NA</td><td><span style=white-space:pre-wrap>MIT + file LICENSE         </span></td><td>NA</td><td>NA</td><td>NA</td><td>NA</td><td>no </td><td>4.0.0</td></tr>\n",
       "\t<tr><th scope=row>viridisLite</th><td>viridisLite </td><td>/opt/conda/lib/R/library</td><td><span style=white-space:pre-wrap>0.4.0   </span></td><td><span style=white-space:pre-wrap>NA  </span></td><td><span style=white-space:pre-wrap>R (&gt;= 2.10)                                                                                  </span></td><td><span style=white-space:pre-wrap>NA                                                                                                                                                   </span></td><td><span style=white-space:pre-wrap>NA                                                    </span></td><td><span style=white-space:pre-wrap>hexbin (&gt;= 1.27.0), ggplot2 (&gt;= 1.0.1), testthat, covr                                                                                                                                              </span></td><td>NA</td><td><span style=white-space:pre-wrap>MIT + file LICENSE         </span></td><td>NA</td><td>NA</td><td>NA</td><td>NA</td><td>no </td><td>4.0.0</td></tr>\n",
       "\t<tr><th scope=row>vroom</th><td><span style=white-space:pre-wrap>vroom       </span></td><td>/opt/conda/lib/R/library</td><td><span style=white-space:pre-wrap>1.5.7   </span></td><td><span style=white-space:pre-wrap>NA  </span></td><td><span style=white-space:pre-wrap>R (&gt;= 3.1)                                                                                   </span></td><td>bit64, crayon, cli, glue, hms, lifecycle, methods, rlang (&gt;=\n",
       "0.4.2), stats, tibble (&gt;= 2.0.0), tzdb (&gt;= 0.1.1), vctrs (&gt;=\n",
       "0.2.0), tidyselect, withr</td><td>progress (&gt;= 1.2.1), cpp11 (&gt;= 0.2.0), tzdb (&gt;= 0.1.1)</td><td>archive, bench (&gt;= 1.1.0), covr, curl, dplyr, forcats, fs,\n",
       "ggplot2, knitr, patchwork, prettyunits, purrr, rmarkdown,\n",
       "rstudioapi, scales, spelling, testthat (&gt;= 2.1.0), tidyr,\n",
       "utils, waldo, xml2</td><td>NA</td><td><span style=white-space:pre-wrap>MIT + file LICENSE         </span></td><td>NA</td><td>NA</td><td>NA</td><td>NA</td><td>yes</td><td>4.0.0</td></tr>\n",
       "\t<tr><th scope=row>waldo</th><td><span style=white-space:pre-wrap>waldo       </span></td><td>/opt/conda/lib/R/library</td><td><span style=white-space:pre-wrap>0.4.0   </span></td><td><span style=white-space:pre-wrap>NA  </span></td><td><span style=white-space:pre-wrap>NA                                                                                           </span></td><td><span style=white-space:pre-wrap>cli, diffobj (&gt;= 0.3.4), fansi, glue, methods, rematch2, rlang\n",
       "(&gt;= 1.0.0), tibble                                                                   </span></td><td><span style=white-space:pre-wrap>NA                                                    </span></td><td><span style=white-space:pre-wrap>covr, R6, testthat (&gt;= 3.0.0), withr, xml2                                                                                                                                                          </span></td><td>NA</td><td><span style=white-space:pre-wrap>MIT + file LICENSE         </span></td><td>NA</td><td>NA</td><td>NA</td><td>NA</td><td>no </td><td>4.0.0</td></tr>\n",
       "\t<tr><th scope=row>warp</th><td><span style=white-space:pre-wrap>warp        </span></td><td>/opt/conda/lib/R/library</td><td><span style=white-space:pre-wrap>0.2.0   </span></td><td><span style=white-space:pre-wrap>NA  </span></td><td><span style=white-space:pre-wrap>R (&gt;= 3.2)                                                                                   </span></td><td><span style=white-space:pre-wrap>NA                                                                                                                                                   </span></td><td><span style=white-space:pre-wrap>NA                                                    </span></td><td><span style=white-space:pre-wrap>covr, testthat (&gt;= 2.1.0), knitr, rmarkdown                                                                                                                                                         </span></td><td>NA</td><td><span style=white-space:pre-wrap>MIT + file LICENSE         </span></td><td>NA</td><td>NA</td><td>NA</td><td>NA</td><td>yes</td><td>4.0.0</td></tr>\n",
       "\t<tr><th scope=row>webshot</th><td><span style=white-space:pre-wrap>webshot     </span></td><td>/opt/conda/lib/R/library</td><td><span style=white-space:pre-wrap>0.5.3   </span></td><td><span style=white-space:pre-wrap>NA  </span></td><td><span style=white-space:pre-wrap>R (&gt;= 3.0)                                                                                   </span></td><td><span style=white-space:pre-wrap>magrittr, jsonlite, callr                                                                                                                            </span></td><td><span style=white-space:pre-wrap>NA                                                    </span></td><td><span style=white-space:pre-wrap>httpuv, knitr, rmarkdown, shiny                                                                                                                                                                     </span></td><td>NA</td><td><span style=white-space:pre-wrap>GPL-2                      </span></td><td>NA</td><td>NA</td><td>NA</td><td>NA</td><td>no </td><td>4.0.0</td></tr>\n",
       "\t<tr><th scope=row>whisker</th><td>whisker     </td><td>/opt/conda/lib/R/library</td><td>0.4     </td><td>NA  </td><td>NA                                                                                           </td><td>NA                                                                                                                                                   </td><td>NA                                                    </td><td>markdown                                                                                                                                                                                            </td><td>NA</td><td>GPL-3                      </td><td>NA</td><td>NA</td><td>NA</td><td>NA</td><td>no </td><td>4.0.0</td></tr>\n",
       "\t<tr><th scope=row>whoami</th><td>whoami      </td><td>/opt/conda/lib/R/library</td><td>1.3.0   </td><td>NA  </td><td>NA                                                                                           </td><td>httr, jsonlite, utils                                                                                                                                </td><td>NA                                                    </td><td>covr, mockery, testthat, withr                                                                                                                                                                      </td><td>NA</td><td>MIT + file LICENSE         </td><td>NA</td><td>NA</td><td>NA</td><td>NA</td><td>no </td><td>4.0.0</td></tr>\n",
       "\t<tr><th scope=row>withr</th><td><span style=white-space:pre-wrap>withr       </span></td><td>/opt/conda/lib/R/library</td><td><span style=white-space:pre-wrap>2.5.0   </span></td><td><span style=white-space:pre-wrap>NA  </span></td><td><span style=white-space:pre-wrap>R (&gt;= 3.2.0)                                                                                 </span></td><td><span style=white-space:pre-wrap>graphics, grDevices, stats                                                                                                                           </span></td><td><span style=white-space:pre-wrap>NA                                                    </span></td><td><span style=white-space:pre-wrap>callr, covr, DBI, knitr, lattice, methods, rlang, rmarkdown\n",
       "(&gt;= 2.12), RSQLite, testthat (&gt;= 3.0.0)                                                                                                </span></td><td>NA</td><td><span style=white-space:pre-wrap>MIT + file LICENSE         </span></td><td>NA</td><td>NA</td><td>NA</td><td>NA</td><td>no </td><td>4.0.0</td></tr>\n",
       "\t<tr><th scope=row>wk</th><td><span style=white-space:pre-wrap>wk          </span></td><td>/opt/conda/lib/R/library</td><td><span style=white-space:pre-wrap>0.6.0   </span></td><td><span style=white-space:pre-wrap>NA  </span></td><td><span style=white-space:pre-wrap>NA                                                                                           </span></td><td><span style=white-space:pre-wrap>NA                                                                                                                                                   </span></td><td><span style=white-space:pre-wrap>NA                                                    </span></td><td><span style=white-space:pre-wrap>testthat (&gt;= 3.0.0), vctrs (&gt;= 0.3.0), sf, tibble, readr                                                                                                                                            </span></td><td>NA</td><td><span style=white-space:pre-wrap>MIT + file LICENSE         </span></td><td>NA</td><td>NA</td><td>NA</td><td>NA</td><td>yes</td><td>4.0.0</td></tr>\n",
       "\t<tr><th scope=row>workflows</th><td><span style=white-space:pre-wrap>workflows   </span></td><td>/opt/conda/lib/R/library</td><td><span style=white-space:pre-wrap>0.1.1   </span></td><td><span style=white-space:pre-wrap>NA  </span></td><td><span style=white-space:pre-wrap>R (&gt;= 3.2)                                                                                   </span></td><td><span style=white-space:pre-wrap>cli (&gt;= 2.0.0), ellipsis (&gt;= 0.2.0), generics, glue, hardhat\n",
       "(&gt;= 0.1.2), parsnip (&gt;= 0.0.4), rlang (&gt;= 0.4.1)                                       </span></td><td><span style=white-space:pre-wrap>NA                                                    </span></td><td><span style=white-space:pre-wrap>covr, knitr, recipes, rmarkdown, testthat (&gt;= 2.3.0)                                                                                                                                                </span></td><td>NA</td><td><span style=white-space:pre-wrap>MIT + file LICENSE         </span></td><td>NA</td><td>NA</td><td>NA</td><td>NA</td><td>no </td><td>4.0.0</td></tr>\n",
       "\t<tr><th scope=row>xfun</th><td><span style=white-space:pre-wrap>xfun        </span></td><td>/opt/conda/lib/R/library</td><td><span style=white-space:pre-wrap>0.31    </span></td><td><span style=white-space:pre-wrap>NA  </span></td><td><span style=white-space:pre-wrap>NA                                                                                           </span></td><td><span style=white-space:pre-wrap>stats, tools                                                                                                                                         </span></td><td><span style=white-space:pre-wrap>NA                                                    </span></td><td><span style=white-space:pre-wrap>testit, parallel, codetools, rstudioapi, tinytex (&gt;= 0.30),\n",
       "mime, markdown, knitr, htmltools, remotes, pak, rhub, renv,\n",
       "curl, jsonlite, rmarkdown                                                 </span></td><td>NA</td><td><span style=white-space:pre-wrap>MIT + file LICENSE         </span></td><td>NA</td><td>NA</td><td>NA</td><td>NA</td><td>yes</td><td>4.0.0</td></tr>\n",
       "\t<tr><th scope=row>XML</th><td><span style=white-space:pre-wrap>XML         </span></td><td>/opt/conda/lib/R/library</td><td>3.99-0.9</td><td><span style=white-space:pre-wrap>NA  </span></td><td><span style=white-space:pre-wrap>R (&gt;= 4.0.0), methods, utils                                                                 </span></td><td><span style=white-space:pre-wrap>NA                                                                                                                                                   </span></td><td><span style=white-space:pre-wrap>NA                                                    </span></td><td><span style=white-space:pre-wrap>bitops, RCurl                                                                                                                                                                                       </span></td><td>NA</td><td>BSD_3_clause + file LICENSE</td><td>NA</td><td>NA</td><td>NA</td><td>NA</td><td>yes</td><td>4.0.0</td></tr>\n",
       "\t<tr><th scope=row>xml2</th><td><span style=white-space:pre-wrap>xml2        </span></td><td>/opt/conda/lib/R/library</td><td><span style=white-space:pre-wrap>1.3.2   </span></td><td><span style=white-space:pre-wrap>NA  </span></td><td><span style=white-space:pre-wrap>R (&gt;= 3.1.0)                                                                                 </span></td><td><span style=white-space:pre-wrap>methods                                                                                                                                              </span></td><td><span style=white-space:pre-wrap>NA                                                    </span></td><td><span style=white-space:pre-wrap>covr, curl, httr, knitr, magrittr, mockery, rmarkdown,\n",
       "testthat (&gt;= 2.1.0)                                                                                                                         </span></td><td>NA</td><td><span style=white-space:pre-wrap>GPL (&gt;= 2)                 </span></td><td>NA</td><td>NA</td><td>NA</td><td>NA</td><td>yes</td><td>4.0.0</td></tr>\n",
       "\t<tr><th scope=row>xmlparsedata</th><td>xmlparsedata</td><td>/opt/conda/lib/R/library</td><td><span style=white-space:pre-wrap>1.0.5   </span></td><td><span style=white-space:pre-wrap>NA  </span></td><td><span style=white-space:pre-wrap>R (&gt;= 3.0.0)                                                                                 </span></td><td><span style=white-space:pre-wrap>NA                                                                                                                                                   </span></td><td><span style=white-space:pre-wrap>NA                                                    </span></td><td><span style=white-space:pre-wrap>covr, testthat, xml2                                                                                                                                                                                </span></td><td>NA</td><td><span style=white-space:pre-wrap>MIT + file LICENSE         </span></td><td>NA</td><td>NA</td><td>NA</td><td>NA</td><td>no </td><td>4.0.0</td></tr>\n",
       "\t<tr><th scope=row>xopen</th><td><span style=white-space:pre-wrap>xopen       </span></td><td>/opt/conda/lib/R/library</td><td><span style=white-space:pre-wrap>1.0.0   </span></td><td><span style=white-space:pre-wrap>NA  </span></td><td><span style=white-space:pre-wrap>R (&gt;= 3.1)                                                                                   </span></td><td><span style=white-space:pre-wrap>processx                                                                                                                                             </span></td><td><span style=white-space:pre-wrap>NA                                                    </span></td><td><span style=white-space:pre-wrap>ps, testthat                                                                                                                                                                                        </span></td><td>NA</td><td><span style=white-space:pre-wrap>MIT + file LICENSE         </span></td><td>NA</td><td>NA</td><td>NA</td><td>NA</td><td>no </td><td>4.0.0</td></tr>\n",
       "\t<tr><th scope=row>xtable</th><td><span style=white-space:pre-wrap>xtable      </span></td><td>/opt/conda/lib/R/library</td><td><span style=white-space:pre-wrap>1.8-4   </span></td><td><span style=white-space:pre-wrap>NA  </span></td><td><span style=white-space:pre-wrap>R (&gt;= 2.10.0)                                                                                </span></td><td><span style=white-space:pre-wrap>stats, utils                                                                                                                                         </span></td><td><span style=white-space:pre-wrap>NA                                                    </span></td><td><span style=white-space:pre-wrap>knitr, plm, zoo, survival                                                                                                                                                                           </span></td><td>NA</td><td><span style=white-space:pre-wrap>GPL (&gt;= 2)                 </span></td><td>NA</td><td>NA</td><td>NA</td><td>NA</td><td>no </td><td>4.0.0</td></tr>\n",
       "\t<tr><th scope=row>xts</th><td><span style=white-space:pre-wrap>xts         </span></td><td>/opt/conda/lib/R/library</td><td><span style=white-space:pre-wrap>0.12-0  </span></td><td><span style=white-space:pre-wrap>NA  </span></td><td><span style=white-space:pre-wrap>zoo (&gt;= 1.7-12)                                                                              </span></td><td><span style=white-space:pre-wrap>methods                                                                                                                                              </span></td><td><span style=white-space:pre-wrap>zoo                                                   </span></td><td><span style=white-space:pre-wrap>timeSeries, timeDate, tseries, chron, fts, tis, RUnit                                                                                                                                               </span></td><td>NA</td><td><span style=white-space:pre-wrap>GPL (&gt;= 2)                 </span></td><td>NA</td><td>NA</td><td>NA</td><td>NA</td><td>yes</td><td>4.0.0</td></tr>\n",
       "\t<tr><th scope=row>XVector</th><td><span style=white-space:pre-wrap>XVector     </span></td><td>/opt/conda/lib/R/library</td><td><span style=white-space:pre-wrap>0.30.0  </span></td><td><span style=white-space:pre-wrap>NA  </span></td><td>R (&gt;= 2.8.0), methods, BiocGenerics (&gt;= 0.19.2), S4Vectors (&gt;=\n",
       "0.27.12), IRanges (&gt;= 2.23.9)</td><td><span style=white-space:pre-wrap>methods, utils, tools, zlibbioc, BiocGenerics, S4Vectors,\n",
       "IRanges                                                                                   </span></td><td><span style=white-space:pre-wrap>S4Vectors, IRanges                                    </span></td><td><span style=white-space:pre-wrap>Biostrings, drosophila2probe, RUnit                                                                                                                                                                 </span></td><td>NA</td><td><span style=white-space:pre-wrap>Artistic-2.0               </span></td><td>NA</td><td>NA</td><td>NA</td><td>NA</td><td>yes</td><td>4.0.0</td></tr>\n",
       "\t<tr><th scope=row>yaml</th><td>yaml        </td><td>/opt/conda/lib/R/library</td><td>2.3.5   </td><td>NA  </td><td>NA                                                                                           </td><td>NA                                                                                                                                                   </td><td>NA                                                    </td><td>RUnit                                                                                                                                                                                               </td><td>NA</td><td>BSD_3_clause + file LICENSE</td><td>NA</td><td>NA</td><td>NA</td><td>NA</td><td>yes</td><td>4.0.0</td></tr>\n",
       "\t<tr><th scope=row>yardstick</th><td><span style=white-space:pre-wrap>yardstick   </span></td><td>/opt/conda/lib/R/library</td><td><span style=white-space:pre-wrap>0.0.6   </span></td><td><span style=white-space:pre-wrap>NA  </span></td><td><span style=white-space:pre-wrap>R (&gt;= 2.10)                                                                                  </span></td><td><span style=white-space:pre-wrap>dplyr, utils, pROC (&gt;= 1.15.0), rlang (&gt;= 0.4.0), tidyselect,\n",
       "Rcpp, generics                                                                        </span></td><td><span style=white-space:pre-wrap>Rcpp                                                  </span></td><td><span style=white-space:pre-wrap>testthat, covr, purrr, tidyr, ggplot2, knitr, kableExtra,\n",
       "rmarkdown                                                                                                                                </span></td><td>NA</td><td><span style=white-space:pre-wrap>GPL-2                      </span></td><td>NA</td><td>NA</td><td>NA</td><td>NA</td><td>yes</td><td>4.0.0</td></tr>\n",
       "\t<tr><th scope=row>zeallot</th><td>zeallot     </td><td>/opt/conda/lib/R/library</td><td>0.1.0   </td><td>NA  </td><td>NA                                                                                           </td><td>NA                                                                                                                                                   </td><td>NA                                                    </td><td>testthat, knitr, rmarkdown, purrr, magrittr                                                                                                                                                         </td><td>NA</td><td>MIT + file LICENSE         </td><td>NA</td><td>NA</td><td>NA</td><td>NA</td><td>no </td><td>4.0.0</td></tr>\n",
       "\t<tr><th scope=row>zip</th><td>zip         </td><td>/opt/conda/lib/R/library</td><td>2.2.0   </td><td>NA  </td><td>NA                                                                                           </td><td>NA                                                                                                                                                   </td><td>NA                                                    </td><td>covr, processx, R6, testthat, withr                                                                                                                                                                 </td><td>NA</td><td>MIT + file LICENSE         </td><td>NA</td><td>NA</td><td>NA</td><td>NA</td><td>yes</td><td>4.0.0</td></tr>\n",
       "\t<tr><th scope=row>zlibbioc</th><td>zlibbioc    </td><td>/opt/conda/lib/R/library</td><td>1.36.0  </td><td>NA  </td><td>NA                                                                                           </td><td>NA                                                                                                                                                   </td><td>NA                                                    </td><td>NA                                                                                                                                                                                                  </td><td>NA</td><td>Artistic-2.0 + file LICENSE</td><td>NA</td><td>NA</td><td>NA</td><td>NA</td><td>yes</td><td>4.0.0</td></tr>\n",
       "\t<tr><th scope=row>zoo</th><td><span style=white-space:pre-wrap>zoo         </span></td><td>/opt/conda/lib/R/library</td><td><span style=white-space:pre-wrap>1.8-10  </span></td><td><span style=white-space:pre-wrap>NA  </span></td><td><span style=white-space:pre-wrap>R (&gt;= 3.1.0), stats                                                                          </span></td><td><span style=white-space:pre-wrap>utils, graphics, grDevices, lattice (&gt;= 0.20-27)                                                                                                     </span></td><td><span style=white-space:pre-wrap>NA                                                    </span></td><td><span style=white-space:pre-wrap>AER, coda, chron, fts, ggplot2 (&gt;= 3.0.0), mondate, scales,\n",
       "stinepack, strucchange, timeDate, timeSeries, tis, tseries, xts                                                                        </span></td><td>NA</td><td><span style=white-space:pre-wrap>GPL-2 | GPL-3              </span></td><td>NA</td><td>NA</td><td>NA</td><td>NA</td><td>yes</td><td>4.0.0</td></tr>\n",
       "</tbody>\n",
       "</table>\n"
      ],
      "text/latex": [
       "A matrix: 457 × 16 of type chr\n",
       "\\begin{tabular}{r|llllllllllllllll}\n",
       "  & Package & LibPath & Version & Priority & Depends & Imports & LinkingTo & Suggests & Enhances & License & License\\_is\\_FOSS & License\\_restricts\\_use & OS\\_type & MD5sum & NeedsCompilation & Built\\\\\n",
       "\\hline\n",
       "\tabind & abind            & /opt/conda/lib/R/library & 1.4-5    & NA   & R (>= 1.5.0)                                                                                                       & methods, utils                                                                                                                                                                                      & NA                          & NA                                                                                                                                                                                                                                                                                  & NA                               & LGPL (>= 2)             & NA & NA & NA & NA & no  & 4.0.0\\\\\n",
       "\tannotate & annotate         & /opt/conda/lib/R/library & 1.68.0   & NA   & R (>= 2.10), AnnotationDbi (>= 1.27.5), XML                                                                        & Biobase, DBI, xtable, graphics, utils, stats, methods,\n",
       "BiocGenerics (>= 0.13.8), httr                                                                                                              & NA                          & hgu95av2.db, genefilter, Biostrings (>= 2.25.10), IRanges,\n",
       "rae230a.db, rae230aprobe, tkWidgets, GO.db, org.Hs.eg.db,\n",
       "org.Mm.eg.db, hom.Hs.inp.db, humanCHRLOC, Rgraphviz, RUnit,                                                                                                  & NA                               & Artistic-2.0            & NA & NA & NA & NA & no  & 4.0.0\\\\\n",
       "\tAnnotationDbi & AnnotationDbi    & /opt/conda/lib/R/library & 1.52.0   & NA   & R (>= 2.7.0), methods, utils, stats4, BiocGenerics (>=\n",
       "0.29.2), Biobase (>= 1.17.0), IRanges                      & DBI, RSQLite, S4Vectors (>= 0.9.25)                                                                                                                                                                 & NA                          & hgu95av2.db, GO.db, org.Sc.sgd.db, org.At.tair.db, KEGG.db,\n",
       "RUnit, TxDb.Hsapiens.UCSC.hg19.knownGene, hom.Hs.inp.db,\n",
       "org.Hs.eg.db, reactome.db, AnnotationForge, graph,\n",
       "EnsDb.Hsapiens.v75, BiocStyle, knitr                                                                     & NA                               & Artistic-2.0            & NA & NA & NA & NA & no  & 4.0.0\\\\\n",
       "\tAnnotationFilter & AnnotationFilter & /opt/conda/lib/R/library & 1.14.0   & NA   & R (>= 3.4.0)                                                                                                       & utils, methods, GenomicRanges, lazyeval                                                                                                                                                             & NA                          & BiocStyle, knitr, testthat, RSQLite, org.Hs.eg.db                                                                                                                                                                                                                                   & NA                               & Artistic-2.0            & NA & NA & NA & NA & no  & 4.0.0\\\\\n",
       "\tAnnotationHub & AnnotationHub    & /opt/conda/lib/R/library & 2.22.1   & NA   & BiocGenerics (>= 0.15.10), BiocFileCache (>= 1.5.1)                                                                & utils, methods, grDevices, RSQLite, BiocManager, BiocVersion,\n",
       "curl, rappdirs, AnnotationDbi (>= 1.31.19), S4Vectors,\n",
       "interactiveDisplayBase, httr, yaml, dplyr                                    & NA                          & IRanges, GenomicRanges, GenomeInfoDb, VariantAnnotation,\n",
       "Rsamtools, rtracklayer, BiocStyle, knitr, AnnotationForge,\n",
       "rBiopaxParser, RUnit, GenomicFeatures, MSnbase, mzR,\n",
       "Biostrings, SummarizedExperiment, ExperimentHub, gdsfmt,\n",
       "rmarkdown                                     & AnnotationHubData                & Artistic-2.0            & NA & NA & NA & NA & yes & 4.0.0\\\\\n",
       "\tarrow & arrow            & /opt/conda/lib/R/library & 8.0.0    & NA   & R (>= 3.4)                                                                                                         & assertthat, bit64 (>= 0.9-7), methods, purrr, R6, rlang,\n",
       "stats, tidyselect (>= 1.0.0), utils, vctrs                                                                                                & cpp11 (>= 0.4.2)            & DBI, dbplyr, decor, distro, dplyr, duckdb (>= 0.2.8), hms,\n",
       "knitr, lubridate, pkgload, reticulate, rmarkdown, stringi,\n",
       "stringr, testthat (>= 3.1.0), tibble, tzdb, withr                                                                                                           & NA                               & Apache License (>= 2.0) & NA & NA & NA & NA & yes & 4.0.0\\\\\n",
       "\taskpass & askpass          & /opt/conda/lib/R/library & 1.1      & NA   & NA                                                                                                                 & sys (>= 2.1)                                                                                                                                                                                        & NA                          & testthat                                                                                                                                                                                                                                                                            & NA                               & MIT + file LICENSE      & NA & NA & NA & NA & yes & 4.0.0\\\\\n",
       "\tassertthat & assertthat       & /opt/conda/lib/R/library & 0.2.1    & NA   & NA                                                                                                                 & tools                                                                                                                                                                                               & NA                          & testthat, covr                                                                                                                                                                                                                                                                      & NA                               & GPL-3                   & NA & NA & NA & NA & no  & 4.0.0\\\\\n",
       "\tAUCell & AUCell           & /opt/conda/lib/R/library & 1.12.0   & NA   & NA                                                                                                                 & data.table, graphics, grDevices, GSEABase, methods, mixtools,\n",
       "R.utils, shiny, stats, SummarizedExperiment, BiocGenerics,\n",
       "S4Vectors, utils                                                         & NA                          & Biobase, BiocStyle, doSNOW, dynamicTreeCut, DT, GEOquery,\n",
       "knitr, NMF, plyr, R2HTML, rmarkdown, reshape2, plotly, rbokeh,\n",
       "devtools, Rtsne, tsne, testthat, zoo                                                                                                                     & doMC, doRNG, doParallel, foreach & GPL-3                   & NA & NA & NA & NA & no  & 4.0.0\\\\\n",
       "\tbackports & backports        & /opt/conda/lib/R/library & 1.1.8    & NA   & R (>= 3.0.0)                                                                                                       & utils                                                                                                                                                                                               & NA                          & NA                                                                                                                                                                                                                                                                                  & NA                               & GPL-2 \\textbar{} GPL-3           & NA & NA & NA & NA & yes & 4.0.1\\\\\n",
       "\tbase & base             & /opt/conda/lib/R/library & 4.0.0    & base & NA                                                                                                                 & NA                                                                                                                                                                                                  & NA                          & methods                                                                                                                                                                                                                                                                             & NA                               & Part of R 4.0.0         & NA & NA & NA & NA & NA  & 4.0.0\\\\\n",
       "\tbase64enc & base64enc        & /opt/conda/lib/R/library & 0.1-3    & NA   & R (>= 2.9.0)                                                                                                       & NA                                                                                                                                                                                                  & NA                          & NA                                                                                                                                                                                                                                                                                  & png                              & GPL-2 \\textbar{} GPL-3           & NA & NA & NA & NA & yes & 4.0.0\\\\\n",
       "\tbatchelor & batchelor        & /opt/conda/lib/R/library & 1.6.3    & NA   & SingleCellExperiment                                                                                               & SummarizedExperiment, S4Vectors, BiocGenerics, Rcpp, stats,\n",
       "methods, utils, igraph, BiocNeighbors, BiocSingular, Matrix,\n",
       "DelayedArray, DelayedMatrixStats, BiocParallel, scuttle,\n",
       "ResidualMatrix & Rcpp                        & testthat, BiocStyle, knitr, rmarkdown, scran, scater,\n",
       "bluster, scRNAseq                                                                                                                                                                                                            & NA                               & GPL-3                   & NA & NA & NA & NA & yes & 4.0.0\\\\\n",
       "\tbayesplot & bayesplot        & /opt/conda/lib/R/library & 1.7.2    & NA   & R (>= 3.1.0)                                                                                                       & dplyr (>= 0.8.0), ggplot2 (>= 3.0.0), ggridges, glue,\n",
       "reshape2, rlang (>= 0.3.0), stats, tibble, tidyselect, utils                                                                                 & NA                          & gridExtra (>= 2.2.1), hexbin, knitr (>= 1.16), loo (>=\n",
       "2.0.0), RColorBrewer, rmarkdown (>= 1.0.0), rstan (>= 2.17.1),\n",
       "rstanarm (>= 2.17.4), rstantools (>= 1.5.0), scales, shinystan\n",
       "(>= 2.3.0), testthat (>= 2.0.0), vdiffr                                                     & NA                               & GPL (>= 3)              & NA & NA & NA & NA & no  & 4.0.0\\\\\n",
       "\tbeachmat & beachmat         & /opt/conda/lib/R/library & 2.6.4    & NA   & NA                                                                                                                 & methods, DelayedArray (>= 0.15.14), BiocGenerics, Matrix                                                                                                                                            & NA                          & testthat, BiocStyle, knitr, rmarkdown, rcmdcheck,\n",
       "BiocParallel                                                                                                                                                                                                                     & NA                               & GPL-3                   & NA & NA & NA & NA & yes & 4.0.0\\\\\n",
       "\tbeeswarm & beeswarm         & /opt/conda/lib/R/library & 0.4.0    & NA   & NA                                                                                                                 & stats, graphics, grDevices, utils                                                                                                                                                                   & NA                          & NA                                                                                                                                                                                                                                                                                  & NA                               & Artistic-2.0            & NA & NA & NA & NA & yes & 4.0.0\\\\\n",
       "\tBH & BH               & /opt/conda/lib/R/library & 1.78.0-0 & NA   & NA                                                                                                                 & NA                                                                                                                                                                                                  & NA                          & NA                                                                                                                                                                                                                                                                                  & NA                               & BSL-1.0                 & NA & NA & NA & NA & no  & 4.0.0\\\\\n",
       "\tBiobase & Biobase          & /opt/conda/lib/R/library & 2.50.0   & NA   & R (>= 2.10), BiocGenerics (>= 0.27.1), utils                                                                       & methods                                                                                                                                                                                             & NA                          & tools, tkWidgets, ALL, RUnit, golubEsets                                                                                                                                                                                                                                            & NA                               & Artistic-2.0            & NA & NA & NA & NA & yes & 4.0.0\\\\\n",
       "\tBiocFileCache & BiocFileCache    & /opt/conda/lib/R/library & 1.14.0   & NA   & R (>= 3.4.0), dbplyr (>= 1.0.0)                                                                                    & methods, stats, utils, dplyr, RSQLite, DBI, rappdirs, curl,\n",
       "httr                                                                                                                                   & NA                          & testthat, knitr, BiocStyle, rmarkdown, rtracklayer                                                                                                                                                                                                                                  & NA                               & Artistic-2.0            & NA & NA & NA & NA & no  & 4.0.0\\\\\n",
       "\tBiocGenerics & BiocGenerics     & /opt/conda/lib/R/library & 0.36.1   & NA   & R (>= 4.0.0), methods, utils, graphics, stats, parallel                                                            & methods, utils, graphics, stats, parallel                                                                                                                                                           & NA                          & Biobase, S4Vectors, IRanges, GenomicRanges, DelayedArray,\n",
       "Biostrings, Rsamtools, AnnotationDbi, affy, affyPLM, DESeq2,\n",
       "flowClust, MSnbase, annotate, RUnit                                                                                                                        & NA                               & Artistic-2.0            & NA & NA & NA & NA & no  & 4.0.0\\\\\n",
       "\tBiocManager & BiocManager      & /opt/conda/lib/R/library & 1.30.18  & NA   & NA                                                                                                                 & utils                                                                                                                                                                                               & NA                          & BiocVersion, remotes, rmarkdown, testthat, withr, curl, knitr                                                                                                                                                                                                                       & NA                               & Artistic-2.0            & NA & NA & NA & NA & no  & 4.0.0\\\\\n",
       "\tBiocNeighbors & BiocNeighbors    & /opt/conda/lib/R/library & 1.8.2    & NA   & NA                                                                                                                 & Rcpp, S4Vectors, BiocParallel, stats, methods, Matrix                                                                                                                                               & Rcpp, RcppHNSW              & testthat, BiocStyle, knitr, rmarkdown, FNN, RcppAnnoy,\n",
       "RcppHNSW                                                                                                                                                                                                                    & NA                               & GPL-3                   & NA & NA & NA & NA & yes & 4.0.0\\\\\n",
       "\tBiocParallel & BiocParallel     & /opt/conda/lib/R/library & 1.24.1   & NA   & methods                                                                                                            & stats, utils, futile.logger, parallel, snow                                                                                                                                                         & BH                          & BiocGenerics, tools, foreach, BatchJobs, BBmisc, doParallel,\n",
       "Rmpi, GenomicRanges, RNAseqData.HNRNPC.bam.chr14,\n",
       "TxDb.Hsapiens.UCSC.hg19.knownGene, VariantAnnotation,\n",
       "Rsamtools, GenomicAlignments, ShortRead, codetools, RUnit,\n",
       "BiocStyle, knitr, batchtools, data.table        & NA                               & GPL-2 \\textbar{} GPL-3           & NA & NA & NA & NA & yes & 4.0.0\\\\\n",
       "\tBiocSingular & BiocSingular     & /opt/conda/lib/R/library & 1.6.0    & NA   & NA                                                                                                                 & BiocGenerics, S4Vectors, Matrix, methods, utils, DelayedArray,\n",
       "BiocParallel, irlba, rsvd, Rcpp, beachmat                                                                                           & Rcpp, beachmat              & testthat, BiocStyle, knitr, rmarkdown, ResidualMatrix                                                                                                                                                                                                                               & NA                               & GPL-3                   & NA & NA & NA & NA & yes & 4.0.0\\\\\n",
       "\tBiocVersion & BiocVersion      & /opt/conda/lib/R/library & 3.12.0   & NA   & R (>= 4.0.0)                                                                                                       & NA                                                                                                                                                                                                  & NA                          & NA                                                                                                                                                                                                                                                                                  & NA                               & Artistic-2.0            & NA & NA & NA & NA & no  & 4.0.0\\\\\n",
       "\tbiomaRt & biomaRt          & /opt/conda/lib/R/library & 2.46.3   & NA   & methods                                                                                                            & utils, XML, AnnotationDbi, progress, stringr, httr, openssl,\n",
       "BiocFileCache, rappdirs, xml2                                                                                                         & NA                          & annotate, BiocStyle, knitr, rmarkdown, testthat, mockery                                                                                                                                                                                                                            & NA                               & Artistic-2.0            & NA & NA & NA & NA & no  & 4.0.0\\\\\n",
       "\tBiostrings & Biostrings       & /opt/conda/lib/R/library & 2.58.0   & NA   & R (>= 3.5.0), methods, BiocGenerics (>= 0.31.5), S4Vectors (>=\n",
       "0.27.12), IRanges (>= 2.23.9), XVector (>= 0.29.2) & methods, utils, grDevices, graphics, stats, crayon                                                                                                                                                  & S4Vectors, IRanges, XVector & BSgenome (>= 1.13.14), BSgenome.Celegans.UCSC.ce2 (>=\n",
       "1.3.11), BSgenome.Dmelanogaster.UCSC.dm3 (>= 1.3.11),\n",
       "BSgenome.Hsapiens.UCSC.hg18, drosophila2probe, hgu95av2probe,\n",
       "hgu133aprobe, GenomicFeatures (>= 1.3.14), hgu95av2cdf, affy\n",
       "(>= 1.41.3), affydata (>= 1.11.5), RUnit & Rmpi                             & Artistic-2.0            & NA & NA & NA & NA & yes & 4.0.0\\\\\n",
       "\tbit & bit              & /opt/conda/lib/R/library & 4.0.4    & NA   & R (>= 2.9.2)                                                                                                       & NA                                                                                                                                                                                                  & NA                          & testthat (>= 0.11.0), roxygen2, knitr, rmarkdown,\n",
       "microbenchmark, bit64 (>= 4.0.0), ff (>= 4.0.0)                                                                                                                                                                                  & NA                               & GPL-2 \\textbar{} GPL-3           & NA & NA & NA & NA & yes & 4.0.0\\\\\n",
       "\tbit64 & bit64            & /opt/conda/lib/R/library & 4.0.5    & NA   & R (>= 3.0.1), bit (>= 4.0.0), utils, methods, stats                                                                & NA                                                                                                                                                                                                  & NA                          & NA                                                                                                                                                                                                                                                                                  & NA                               & GPL-2 \\textbar{} GPL-3           & NA & NA & NA & NA & yes & 4.0.0\\\\\n",
       "\tbitops & bitops           & /opt/conda/lib/R/library & 1.0-7    & NA   & NA                                                                                                                 & NA                                                                                                                                                                                                  & NA                          & NA                                                                                                                                                                                                                                                                                  & NA                               & GPL (>= 2)              & NA & NA & NA & NA & yes & 4.0.0\\\\\n",
       "\t⋮ & ⋮ & ⋮ & ⋮ & ⋮ & ⋮ & ⋮ & ⋮ & ⋮ & ⋮ & ⋮ & ⋮ & ⋮ & ⋮ & ⋮ & ⋮ & ⋮\\\\\n",
       "\tutils & utils        & /opt/conda/lib/R/library & 4.0.0    & base & NA                                                                                            & NA                                                                                                                                                    & NA                                                     & methods, xml2, commonmark                                                                                                                                                                            & NA & Part of R 4.0.0             & NA & NA & NA & NA & yes & 4.0.0\\\\\n",
       "\tuuid & uuid         & /opt/conda/lib/R/library & 0.1-4    & NA   & R (>= 2.9.0)                                                                                  & NA                                                                                                                                                    & NA                                                     & NA                                                                                                                                                                                                   & NA & MIT + file LICENSE          & NA & NA & NA & NA & yes & 4.0.0\\\\\n",
       "\tuwot & uwot         & /opt/conda/lib/R/library & 0.1.11   & NA   & Matrix                                                                                        & Rcpp, methods, FNN, RSpectra, RcppAnnoy (>= 0.0.17), irlba                                                                                            & Rcpp, RcppProgress, RcppAnnoy, dqrng                   & testthat, covr, bigstatsr                                                                                                                                                                            & NA & GPL (>= 3)                  & NA & NA & NA & NA & yes & 4.0.0\\\\\n",
       "\tvctrs & vctrs        & /opt/conda/lib/R/library & 0.4.1    & NA   & R (>= 3.3)                                                                                    & cli (>= 3.2.0), glue, rlang (>= 1.0.2)                                                                                                                & NA                                                     & bit64, covr, crayon, dplyr (>= 0.8.5), generics, knitr,\n",
       "pillar (>= 1.4.4), pkgdown (>= 2.0.1), rmarkdown, testthat (>=\n",
       "3.0.0), tibble (>= 3.1.3), withr, xml2, waldo (>= 0.2.0),\n",
       "zeallot          & NA & MIT + file LICENSE          & NA & NA & NA & NA & yes & 4.0.0\\\\\n",
       "\tvipor & vipor        & /opt/conda/lib/R/library & 0.4.5    & NA   & R (>= 3.0.0)                                                                                  & stats, graphics                                                                                                                                       & NA                                                     & testthat, beeswarm, lattice, ggplot2, beanplot, vioplot,\n",
       "ggbeeswarm,                                                                                                                                & NA & GPL (>= 2)                  & NA & NA & NA & NA & no  & 4.0.0\\\\\n",
       "\tviridis & viridis      & /opt/conda/lib/R/library & 0.6.2    & NA   & R (>= 2.10), viridisLite (>= 0.4.0)                                                           & stats, ggplot2 (>= 1.0.1), gridExtra                                                                                                                  & NA                                                     & hexbin (>= 1.27.0), scales, MASS, knitr, dichromat,\n",
       "colorspace, raster, rasterVis, httr, mapproj, vdiffr, svglite\n",
       "(>= 1.2.0), testthat, covr, rmarkdown, rgdal, maps                               & NA & MIT + file LICENSE          & NA & NA & NA & NA & no  & 4.0.0\\\\\n",
       "\tviridisLite & viridisLite  & /opt/conda/lib/R/library & 0.4.0    & NA   & R (>= 2.10)                                                                                   & NA                                                                                                                                                    & NA                                                     & hexbin (>= 1.27.0), ggplot2 (>= 1.0.1), testthat, covr                                                                                                                                               & NA & MIT + file LICENSE          & NA & NA & NA & NA & no  & 4.0.0\\\\\n",
       "\tvroom & vroom        & /opt/conda/lib/R/library & 1.5.7    & NA   & R (>= 3.1)                                                                                    & bit64, crayon, cli, glue, hms, lifecycle, methods, rlang (>=\n",
       "0.4.2), stats, tibble (>= 2.0.0), tzdb (>= 0.1.1), vctrs (>=\n",
       "0.2.0), tidyselect, withr & progress (>= 1.2.1), cpp11 (>= 0.2.0), tzdb (>= 0.1.1) & archive, bench (>= 1.1.0), covr, curl, dplyr, forcats, fs,\n",
       "ggplot2, knitr, patchwork, prettyunits, purrr, rmarkdown,\n",
       "rstudioapi, scales, spelling, testthat (>= 2.1.0), tidyr,\n",
       "utils, waldo, xml2 & NA & MIT + file LICENSE          & NA & NA & NA & NA & yes & 4.0.0\\\\\n",
       "\twaldo & waldo        & /opt/conda/lib/R/library & 0.4.0    & NA   & NA                                                                                            & cli, diffobj (>= 0.3.4), fansi, glue, methods, rematch2, rlang\n",
       "(>= 1.0.0), tibble                                                                    & NA                                                     & covr, R6, testthat (>= 3.0.0), withr, xml2                                                                                                                                                           & NA & MIT + file LICENSE          & NA & NA & NA & NA & no  & 4.0.0\\\\\n",
       "\twarp & warp         & /opt/conda/lib/R/library & 0.2.0    & NA   & R (>= 3.2)                                                                                    & NA                                                                                                                                                    & NA                                                     & covr, testthat (>= 2.1.0), knitr, rmarkdown                                                                                                                                                          & NA & MIT + file LICENSE          & NA & NA & NA & NA & yes & 4.0.0\\\\\n",
       "\twebshot & webshot      & /opt/conda/lib/R/library & 0.5.3    & NA   & R (>= 3.0)                                                                                    & magrittr, jsonlite, callr                                                                                                                             & NA                                                     & httpuv, knitr, rmarkdown, shiny                                                                                                                                                                      & NA & GPL-2                       & NA & NA & NA & NA & no  & 4.0.0\\\\\n",
       "\twhisker & whisker      & /opt/conda/lib/R/library & 0.4      & NA   & NA                                                                                            & NA                                                                                                                                                    & NA                                                     & markdown                                                                                                                                                                                             & NA & GPL-3                       & NA & NA & NA & NA & no  & 4.0.0\\\\\n",
       "\twhoami & whoami       & /opt/conda/lib/R/library & 1.3.0    & NA   & NA                                                                                            & httr, jsonlite, utils                                                                                                                                 & NA                                                     & covr, mockery, testthat, withr                                                                                                                                                                       & NA & MIT + file LICENSE          & NA & NA & NA & NA & no  & 4.0.0\\\\\n",
       "\twithr & withr        & /opt/conda/lib/R/library & 2.5.0    & NA   & R (>= 3.2.0)                                                                                  & graphics, grDevices, stats                                                                                                                            & NA                                                     & callr, covr, DBI, knitr, lattice, methods, rlang, rmarkdown\n",
       "(>= 2.12), RSQLite, testthat (>= 3.0.0)                                                                                                 & NA & MIT + file LICENSE          & NA & NA & NA & NA & no  & 4.0.0\\\\\n",
       "\twk & wk           & /opt/conda/lib/R/library & 0.6.0    & NA   & NA                                                                                            & NA                                                                                                                                                    & NA                                                     & testthat (>= 3.0.0), vctrs (>= 0.3.0), sf, tibble, readr                                                                                                                                             & NA & MIT + file LICENSE          & NA & NA & NA & NA & yes & 4.0.0\\\\\n",
       "\tworkflows & workflows    & /opt/conda/lib/R/library & 0.1.1    & NA   & R (>= 3.2)                                                                                    & cli (>= 2.0.0), ellipsis (>= 0.2.0), generics, glue, hardhat\n",
       "(>= 0.1.2), parsnip (>= 0.0.4), rlang (>= 0.4.1)                                        & NA                                                     & covr, knitr, recipes, rmarkdown, testthat (>= 2.3.0)                                                                                                                                                 & NA & MIT + file LICENSE          & NA & NA & NA & NA & no  & 4.0.0\\\\\n",
       "\txfun & xfun         & /opt/conda/lib/R/library & 0.31     & NA   & NA                                                                                            & stats, tools                                                                                                                                          & NA                                                     & testit, parallel, codetools, rstudioapi, tinytex (>= 0.30),\n",
       "mime, markdown, knitr, htmltools, remotes, pak, rhub, renv,\n",
       "curl, jsonlite, rmarkdown                                                  & NA & MIT + file LICENSE          & NA & NA & NA & NA & yes & 4.0.0\\\\\n",
       "\tXML & XML          & /opt/conda/lib/R/library & 3.99-0.9 & NA   & R (>= 4.0.0), methods, utils                                                                  & NA                                                                                                                                                    & NA                                                     & bitops, RCurl                                                                                                                                                                                        & NA & BSD\\_3\\_clause + file LICENSE & NA & NA & NA & NA & yes & 4.0.0\\\\\n",
       "\txml2 & xml2         & /opt/conda/lib/R/library & 1.3.2    & NA   & R (>= 3.1.0)                                                                                  & methods                                                                                                                                               & NA                                                     & covr, curl, httr, knitr, magrittr, mockery, rmarkdown,\n",
       "testthat (>= 2.1.0)                                                                                                                          & NA & GPL (>= 2)                  & NA & NA & NA & NA & yes & 4.0.0\\\\\n",
       "\txmlparsedata & xmlparsedata & /opt/conda/lib/R/library & 1.0.5    & NA   & R (>= 3.0.0)                                                                                  & NA                                                                                                                                                    & NA                                                     & covr, testthat, xml2                                                                                                                                                                                 & NA & MIT + file LICENSE          & NA & NA & NA & NA & no  & 4.0.0\\\\\n",
       "\txopen & xopen        & /opt/conda/lib/R/library & 1.0.0    & NA   & R (>= 3.1)                                                                                    & processx                                                                                                                                              & NA                                                     & ps, testthat                                                                                                                                                                                         & NA & MIT + file LICENSE          & NA & NA & NA & NA & no  & 4.0.0\\\\\n",
       "\txtable & xtable       & /opt/conda/lib/R/library & 1.8-4    & NA   & R (>= 2.10.0)                                                                                 & stats, utils                                                                                                                                          & NA                                                     & knitr, plm, zoo, survival                                                                                                                                                                            & NA & GPL (>= 2)                  & NA & NA & NA & NA & no  & 4.0.0\\\\\n",
       "\txts & xts          & /opt/conda/lib/R/library & 0.12-0   & NA   & zoo (>= 1.7-12)                                                                               & methods                                                                                                                                               & zoo                                                    & timeSeries, timeDate, tseries, chron, fts, tis, RUnit                                                                                                                                                & NA & GPL (>= 2)                  & NA & NA & NA & NA & yes & 4.0.0\\\\\n",
       "\tXVector & XVector      & /opt/conda/lib/R/library & 0.30.0   & NA   & R (>= 2.8.0), methods, BiocGenerics (>= 0.19.2), S4Vectors (>=\n",
       "0.27.12), IRanges (>= 2.23.9) & methods, utils, tools, zlibbioc, BiocGenerics, S4Vectors,\n",
       "IRanges                                                                                    & S4Vectors, IRanges                                     & Biostrings, drosophila2probe, RUnit                                                                                                                                                                  & NA & Artistic-2.0                & NA & NA & NA & NA & yes & 4.0.0\\\\\n",
       "\tyaml & yaml         & /opt/conda/lib/R/library & 2.3.5    & NA   & NA                                                                                            & NA                                                                                                                                                    & NA                                                     & RUnit                                                                                                                                                                                                & NA & BSD\\_3\\_clause + file LICENSE & NA & NA & NA & NA & yes & 4.0.0\\\\\n",
       "\tyardstick & yardstick    & /opt/conda/lib/R/library & 0.0.6    & NA   & R (>= 2.10)                                                                                   & dplyr, utils, pROC (>= 1.15.0), rlang (>= 0.4.0), tidyselect,\n",
       "Rcpp, generics                                                                         & Rcpp                                                   & testthat, covr, purrr, tidyr, ggplot2, knitr, kableExtra,\n",
       "rmarkdown                                                                                                                                 & NA & GPL-2                       & NA & NA & NA & NA & yes & 4.0.0\\\\\n",
       "\tzeallot & zeallot      & /opt/conda/lib/R/library & 0.1.0    & NA   & NA                                                                                            & NA                                                                                                                                                    & NA                                                     & testthat, knitr, rmarkdown, purrr, magrittr                                                                                                                                                          & NA & MIT + file LICENSE          & NA & NA & NA & NA & no  & 4.0.0\\\\\n",
       "\tzip & zip          & /opt/conda/lib/R/library & 2.2.0    & NA   & NA                                                                                            & NA                                                                                                                                                    & NA                                                     & covr, processx, R6, testthat, withr                                                                                                                                                                  & NA & MIT + file LICENSE          & NA & NA & NA & NA & yes & 4.0.0\\\\\n",
       "\tzlibbioc & zlibbioc     & /opt/conda/lib/R/library & 1.36.0   & NA   & NA                                                                                            & NA                                                                                                                                                    & NA                                                     & NA                                                                                                                                                                                                   & NA & Artistic-2.0 + file LICENSE & NA & NA & NA & NA & yes & 4.0.0\\\\\n",
       "\tzoo & zoo          & /opt/conda/lib/R/library & 1.8-10   & NA   & R (>= 3.1.0), stats                                                                           & utils, graphics, grDevices, lattice (>= 0.20-27)                                                                                                      & NA                                                     & AER, coda, chron, fts, ggplot2 (>= 3.0.0), mondate, scales,\n",
       "stinepack, strucchange, timeDate, timeSeries, tis, tseries, xts                                                                         & NA & GPL-2 \\textbar{} GPL-3               & NA & NA & NA & NA & yes & 4.0.0\\\\\n",
       "\\end{tabular}\n"
      ],
      "text/markdown": [
       "\n",
       "A matrix: 457 × 16 of type chr\n",
       "\n",
       "| <!--/--> | Package | LibPath | Version | Priority | Depends | Imports | LinkingTo | Suggests | Enhances | License | License_is_FOSS | License_restricts_use | OS_type | MD5sum | NeedsCompilation | Built |\n",
       "|---|---|---|---|---|---|---|---|---|---|---|---|---|---|---|---|---|\n",
       "| abind | abind            | /opt/conda/lib/R/library | 1.4-5    | NA   | R (&gt;= 1.5.0)                                                                                                       | methods, utils                                                                                                                                                                                      | NA                          | NA                                                                                                                                                                                                                                                                                  | NA                               | LGPL (&gt;= 2)             | NA | NA | NA | NA | no  | 4.0.0 |\n",
       "| annotate | annotate         | /opt/conda/lib/R/library | 1.68.0   | NA   | R (&gt;= 2.10), AnnotationDbi (&gt;= 1.27.5), XML                                                                        | Biobase, DBI, xtable, graphics, utils, stats, methods,\n",
       "BiocGenerics (&gt;= 0.13.8), httr                                                                                                              | NA                          | hgu95av2.db, genefilter, Biostrings (&gt;= 2.25.10), IRanges,\n",
       "rae230a.db, rae230aprobe, tkWidgets, GO.db, org.Hs.eg.db,\n",
       "org.Mm.eg.db, hom.Hs.inp.db, humanCHRLOC, Rgraphviz, RUnit,                                                                                                  | NA                               | Artistic-2.0            | NA | NA | NA | NA | no  | 4.0.0 |\n",
       "| AnnotationDbi | AnnotationDbi    | /opt/conda/lib/R/library | 1.52.0   | NA   | R (&gt;= 2.7.0), methods, utils, stats4, BiocGenerics (&gt;=\n",
       "0.29.2), Biobase (&gt;= 1.17.0), IRanges                      | DBI, RSQLite, S4Vectors (&gt;= 0.9.25)                                                                                                                                                                 | NA                          | hgu95av2.db, GO.db, org.Sc.sgd.db, org.At.tair.db, KEGG.db,\n",
       "RUnit, TxDb.Hsapiens.UCSC.hg19.knownGene, hom.Hs.inp.db,\n",
       "org.Hs.eg.db, reactome.db, AnnotationForge, graph,\n",
       "EnsDb.Hsapiens.v75, BiocStyle, knitr                                                                     | NA                               | Artistic-2.0            | NA | NA | NA | NA | no  | 4.0.0 |\n",
       "| AnnotationFilter | AnnotationFilter | /opt/conda/lib/R/library | 1.14.0   | NA   | R (&gt;= 3.4.0)                                                                                                       | utils, methods, GenomicRanges, lazyeval                                                                                                                                                             | NA                          | BiocStyle, knitr, testthat, RSQLite, org.Hs.eg.db                                                                                                                                                                                                                                   | NA                               | Artistic-2.0            | NA | NA | NA | NA | no  | 4.0.0 |\n",
       "| AnnotationHub | AnnotationHub    | /opt/conda/lib/R/library | 2.22.1   | NA   | BiocGenerics (&gt;= 0.15.10), BiocFileCache (&gt;= 1.5.1)                                                                | utils, methods, grDevices, RSQLite, BiocManager, BiocVersion,\n",
       "curl, rappdirs, AnnotationDbi (&gt;= 1.31.19), S4Vectors,\n",
       "interactiveDisplayBase, httr, yaml, dplyr                                    | NA                          | IRanges, GenomicRanges, GenomeInfoDb, VariantAnnotation,\n",
       "Rsamtools, rtracklayer, BiocStyle, knitr, AnnotationForge,\n",
       "rBiopaxParser, RUnit, GenomicFeatures, MSnbase, mzR,\n",
       "Biostrings, SummarizedExperiment, ExperimentHub, gdsfmt,\n",
       "rmarkdown                                     | AnnotationHubData                | Artistic-2.0            | NA | NA | NA | NA | yes | 4.0.0 |\n",
       "| arrow | arrow            | /opt/conda/lib/R/library | 8.0.0    | NA   | R (&gt;= 3.4)                                                                                                         | assertthat, bit64 (&gt;= 0.9-7), methods, purrr, R6, rlang,\n",
       "stats, tidyselect (&gt;= 1.0.0), utils, vctrs                                                                                                | cpp11 (&gt;= 0.4.2)            | DBI, dbplyr, decor, distro, dplyr, duckdb (&gt;= 0.2.8), hms,\n",
       "knitr, lubridate, pkgload, reticulate, rmarkdown, stringi,\n",
       "stringr, testthat (&gt;= 3.1.0), tibble, tzdb, withr                                                                                                           | NA                               | Apache License (&gt;= 2.0) | NA | NA | NA | NA | yes | 4.0.0 |\n",
       "| askpass | askpass          | /opt/conda/lib/R/library | 1.1      | NA   | NA                                                                                                                 | sys (&gt;= 2.1)                                                                                                                                                                                        | NA                          | testthat                                                                                                                                                                                                                                                                            | NA                               | MIT + file LICENSE      | NA | NA | NA | NA | yes | 4.0.0 |\n",
       "| assertthat | assertthat       | /opt/conda/lib/R/library | 0.2.1    | NA   | NA                                                                                                                 | tools                                                                                                                                                                                               | NA                          | testthat, covr                                                                                                                                                                                                                                                                      | NA                               | GPL-3                   | NA | NA | NA | NA | no  | 4.0.0 |\n",
       "| AUCell | AUCell           | /opt/conda/lib/R/library | 1.12.0   | NA   | NA                                                                                                                 | data.table, graphics, grDevices, GSEABase, methods, mixtools,\n",
       "R.utils, shiny, stats, SummarizedExperiment, BiocGenerics,\n",
       "S4Vectors, utils                                                         | NA                          | Biobase, BiocStyle, doSNOW, dynamicTreeCut, DT, GEOquery,\n",
       "knitr, NMF, plyr, R2HTML, rmarkdown, reshape2, plotly, rbokeh,\n",
       "devtools, Rtsne, tsne, testthat, zoo                                                                                                                     | doMC, doRNG, doParallel, foreach | GPL-3                   | NA | NA | NA | NA | no  | 4.0.0 |\n",
       "| backports | backports        | /opt/conda/lib/R/library | 1.1.8    | NA   | R (&gt;= 3.0.0)                                                                                                       | utils                                                                                                                                                                                               | NA                          | NA                                                                                                                                                                                                                                                                                  | NA                               | GPL-2 | GPL-3           | NA | NA | NA | NA | yes | 4.0.1 |\n",
       "| base | base             | /opt/conda/lib/R/library | 4.0.0    | base | NA                                                                                                                 | NA                                                                                                                                                                                                  | NA                          | methods                                                                                                                                                                                                                                                                             | NA                               | Part of R 4.0.0         | NA | NA | NA | NA | NA  | 4.0.0 |\n",
       "| base64enc | base64enc        | /opt/conda/lib/R/library | 0.1-3    | NA   | R (&gt;= 2.9.0)                                                                                                       | NA                                                                                                                                                                                                  | NA                          | NA                                                                                                                                                                                                                                                                                  | png                              | GPL-2 | GPL-3           | NA | NA | NA | NA | yes | 4.0.0 |\n",
       "| batchelor | batchelor        | /opt/conda/lib/R/library | 1.6.3    | NA   | SingleCellExperiment                                                                                               | SummarizedExperiment, S4Vectors, BiocGenerics, Rcpp, stats,\n",
       "methods, utils, igraph, BiocNeighbors, BiocSingular, Matrix,\n",
       "DelayedArray, DelayedMatrixStats, BiocParallel, scuttle,\n",
       "ResidualMatrix | Rcpp                        | testthat, BiocStyle, knitr, rmarkdown, scran, scater,\n",
       "bluster, scRNAseq                                                                                                                                                                                                            | NA                               | GPL-3                   | NA | NA | NA | NA | yes | 4.0.0 |\n",
       "| bayesplot | bayesplot        | /opt/conda/lib/R/library | 1.7.2    | NA   | R (&gt;= 3.1.0)                                                                                                       | dplyr (&gt;= 0.8.0), ggplot2 (&gt;= 3.0.0), ggridges, glue,\n",
       "reshape2, rlang (&gt;= 0.3.0), stats, tibble, tidyselect, utils                                                                                 | NA                          | gridExtra (&gt;= 2.2.1), hexbin, knitr (&gt;= 1.16), loo (&gt;=\n",
       "2.0.0), RColorBrewer, rmarkdown (&gt;= 1.0.0), rstan (&gt;= 2.17.1),\n",
       "rstanarm (&gt;= 2.17.4), rstantools (&gt;= 1.5.0), scales, shinystan\n",
       "(&gt;= 2.3.0), testthat (&gt;= 2.0.0), vdiffr                                                     | NA                               | GPL (&gt;= 3)              | NA | NA | NA | NA | no  | 4.0.0 |\n",
       "| beachmat | beachmat         | /opt/conda/lib/R/library | 2.6.4    | NA   | NA                                                                                                                 | methods, DelayedArray (&gt;= 0.15.14), BiocGenerics, Matrix                                                                                                                                            | NA                          | testthat, BiocStyle, knitr, rmarkdown, rcmdcheck,\n",
       "BiocParallel                                                                                                                                                                                                                     | NA                               | GPL-3                   | NA | NA | NA | NA | yes | 4.0.0 |\n",
       "| beeswarm | beeswarm         | /opt/conda/lib/R/library | 0.4.0    | NA   | NA                                                                                                                 | stats, graphics, grDevices, utils                                                                                                                                                                   | NA                          | NA                                                                                                                                                                                                                                                                                  | NA                               | Artistic-2.0            | NA | NA | NA | NA | yes | 4.0.0 |\n",
       "| BH | BH               | /opt/conda/lib/R/library | 1.78.0-0 | NA   | NA                                                                                                                 | NA                                                                                                                                                                                                  | NA                          | NA                                                                                                                                                                                                                                                                                  | NA                               | BSL-1.0                 | NA | NA | NA | NA | no  | 4.0.0 |\n",
       "| Biobase | Biobase          | /opt/conda/lib/R/library | 2.50.0   | NA   | R (&gt;= 2.10), BiocGenerics (&gt;= 0.27.1), utils                                                                       | methods                                                                                                                                                                                             | NA                          | tools, tkWidgets, ALL, RUnit, golubEsets                                                                                                                                                                                                                                            | NA                               | Artistic-2.0            | NA | NA | NA | NA | yes | 4.0.0 |\n",
       "| BiocFileCache | BiocFileCache    | /opt/conda/lib/R/library | 1.14.0   | NA   | R (&gt;= 3.4.0), dbplyr (&gt;= 1.0.0)                                                                                    | methods, stats, utils, dplyr, RSQLite, DBI, rappdirs, curl,\n",
       "httr                                                                                                                                   | NA                          | testthat, knitr, BiocStyle, rmarkdown, rtracklayer                                                                                                                                                                                                                                  | NA                               | Artistic-2.0            | NA | NA | NA | NA | no  | 4.0.0 |\n",
       "| BiocGenerics | BiocGenerics     | /opt/conda/lib/R/library | 0.36.1   | NA   | R (&gt;= 4.0.0), methods, utils, graphics, stats, parallel                                                            | methods, utils, graphics, stats, parallel                                                                                                                                                           | NA                          | Biobase, S4Vectors, IRanges, GenomicRanges, DelayedArray,\n",
       "Biostrings, Rsamtools, AnnotationDbi, affy, affyPLM, DESeq2,\n",
       "flowClust, MSnbase, annotate, RUnit                                                                                                                        | NA                               | Artistic-2.0            | NA | NA | NA | NA | no  | 4.0.0 |\n",
       "| BiocManager | BiocManager      | /opt/conda/lib/R/library | 1.30.18  | NA   | NA                                                                                                                 | utils                                                                                                                                                                                               | NA                          | BiocVersion, remotes, rmarkdown, testthat, withr, curl, knitr                                                                                                                                                                                                                       | NA                               | Artistic-2.0            | NA | NA | NA | NA | no  | 4.0.0 |\n",
       "| BiocNeighbors | BiocNeighbors    | /opt/conda/lib/R/library | 1.8.2    | NA   | NA                                                                                                                 | Rcpp, S4Vectors, BiocParallel, stats, methods, Matrix                                                                                                                                               | Rcpp, RcppHNSW              | testthat, BiocStyle, knitr, rmarkdown, FNN, RcppAnnoy,\n",
       "RcppHNSW                                                                                                                                                                                                                    | NA                               | GPL-3                   | NA | NA | NA | NA | yes | 4.0.0 |\n",
       "| BiocParallel | BiocParallel     | /opt/conda/lib/R/library | 1.24.1   | NA   | methods                                                                                                            | stats, utils, futile.logger, parallel, snow                                                                                                                                                         | BH                          | BiocGenerics, tools, foreach, BatchJobs, BBmisc, doParallel,\n",
       "Rmpi, GenomicRanges, RNAseqData.HNRNPC.bam.chr14,\n",
       "TxDb.Hsapiens.UCSC.hg19.knownGene, VariantAnnotation,\n",
       "Rsamtools, GenomicAlignments, ShortRead, codetools, RUnit,\n",
       "BiocStyle, knitr, batchtools, data.table        | NA                               | GPL-2 | GPL-3           | NA | NA | NA | NA | yes | 4.0.0 |\n",
       "| BiocSingular | BiocSingular     | /opt/conda/lib/R/library | 1.6.0    | NA   | NA                                                                                                                 | BiocGenerics, S4Vectors, Matrix, methods, utils, DelayedArray,\n",
       "BiocParallel, irlba, rsvd, Rcpp, beachmat                                                                                           | Rcpp, beachmat              | testthat, BiocStyle, knitr, rmarkdown, ResidualMatrix                                                                                                                                                                                                                               | NA                               | GPL-3                   | NA | NA | NA | NA | yes | 4.0.0 |\n",
       "| BiocVersion | BiocVersion      | /opt/conda/lib/R/library | 3.12.0   | NA   | R (&gt;= 4.0.0)                                                                                                       | NA                                                                                                                                                                                                  | NA                          | NA                                                                                                                                                                                                                                                                                  | NA                               | Artistic-2.0            | NA | NA | NA | NA | no  | 4.0.0 |\n",
       "| biomaRt | biomaRt          | /opt/conda/lib/R/library | 2.46.3   | NA   | methods                                                                                                            | utils, XML, AnnotationDbi, progress, stringr, httr, openssl,\n",
       "BiocFileCache, rappdirs, xml2                                                                                                         | NA                          | annotate, BiocStyle, knitr, rmarkdown, testthat, mockery                                                                                                                                                                                                                            | NA                               | Artistic-2.0            | NA | NA | NA | NA | no  | 4.0.0 |\n",
       "| Biostrings | Biostrings       | /opt/conda/lib/R/library | 2.58.0   | NA   | R (&gt;= 3.5.0), methods, BiocGenerics (&gt;= 0.31.5), S4Vectors (&gt;=\n",
       "0.27.12), IRanges (&gt;= 2.23.9), XVector (&gt;= 0.29.2) | methods, utils, grDevices, graphics, stats, crayon                                                                                                                                                  | S4Vectors, IRanges, XVector | BSgenome (&gt;= 1.13.14), BSgenome.Celegans.UCSC.ce2 (&gt;=\n",
       "1.3.11), BSgenome.Dmelanogaster.UCSC.dm3 (&gt;= 1.3.11),\n",
       "BSgenome.Hsapiens.UCSC.hg18, drosophila2probe, hgu95av2probe,\n",
       "hgu133aprobe, GenomicFeatures (&gt;= 1.3.14), hgu95av2cdf, affy\n",
       "(&gt;= 1.41.3), affydata (&gt;= 1.11.5), RUnit | Rmpi                             | Artistic-2.0            | NA | NA | NA | NA | yes | 4.0.0 |\n",
       "| bit | bit              | /opt/conda/lib/R/library | 4.0.4    | NA   | R (&gt;= 2.9.2)                                                                                                       | NA                                                                                                                                                                                                  | NA                          | testthat (&gt;= 0.11.0), roxygen2, knitr, rmarkdown,\n",
       "microbenchmark, bit64 (&gt;= 4.0.0), ff (&gt;= 4.0.0)                                                                                                                                                                                  | NA                               | GPL-2 | GPL-3           | NA | NA | NA | NA | yes | 4.0.0 |\n",
       "| bit64 | bit64            | /opt/conda/lib/R/library | 4.0.5    | NA   | R (&gt;= 3.0.1), bit (&gt;= 4.0.0), utils, methods, stats                                                                | NA                                                                                                                                                                                                  | NA                          | NA                                                                                                                                                                                                                                                                                  | NA                               | GPL-2 | GPL-3           | NA | NA | NA | NA | yes | 4.0.0 |\n",
       "| bitops | bitops           | /opt/conda/lib/R/library | 1.0-7    | NA   | NA                                                                                                                 | NA                                                                                                                                                                                                  | NA                          | NA                                                                                                                                                                                                                                                                                  | NA                               | GPL (&gt;= 2)              | NA | NA | NA | NA | yes | 4.0.0 |\n",
       "| ⋮ | ⋮ | ⋮ | ⋮ | ⋮ | ⋮ | ⋮ | ⋮ | ⋮ | ⋮ | ⋮ | ⋮ | ⋮ | ⋮ | ⋮ | ⋮ | ⋮ |\n",
       "| utils | utils        | /opt/conda/lib/R/library | 4.0.0    | base | NA                                                                                            | NA                                                                                                                                                    | NA                                                     | methods, xml2, commonmark                                                                                                                                                                            | NA | Part of R 4.0.0             | NA | NA | NA | NA | yes | 4.0.0 |\n",
       "| uuid | uuid         | /opt/conda/lib/R/library | 0.1-4    | NA   | R (&gt;= 2.9.0)                                                                                  | NA                                                                                                                                                    | NA                                                     | NA                                                                                                                                                                                                   | NA | MIT + file LICENSE          | NA | NA | NA | NA | yes | 4.0.0 |\n",
       "| uwot | uwot         | /opt/conda/lib/R/library | 0.1.11   | NA   | Matrix                                                                                        | Rcpp, methods, FNN, RSpectra, RcppAnnoy (&gt;= 0.0.17), irlba                                                                                            | Rcpp, RcppProgress, RcppAnnoy, dqrng                   | testthat, covr, bigstatsr                                                                                                                                                                            | NA | GPL (&gt;= 3)                  | NA | NA | NA | NA | yes | 4.0.0 |\n",
       "| vctrs | vctrs        | /opt/conda/lib/R/library | 0.4.1    | NA   | R (&gt;= 3.3)                                                                                    | cli (&gt;= 3.2.0), glue, rlang (&gt;= 1.0.2)                                                                                                                | NA                                                     | bit64, covr, crayon, dplyr (&gt;= 0.8.5), generics, knitr,\n",
       "pillar (&gt;= 1.4.4), pkgdown (&gt;= 2.0.1), rmarkdown, testthat (&gt;=\n",
       "3.0.0), tibble (&gt;= 3.1.3), withr, xml2, waldo (&gt;= 0.2.0),\n",
       "zeallot          | NA | MIT + file LICENSE          | NA | NA | NA | NA | yes | 4.0.0 |\n",
       "| vipor | vipor        | /opt/conda/lib/R/library | 0.4.5    | NA   | R (&gt;= 3.0.0)                                                                                  | stats, graphics                                                                                                                                       | NA                                                     | testthat, beeswarm, lattice, ggplot2, beanplot, vioplot,\n",
       "ggbeeswarm,                                                                                                                                | NA | GPL (&gt;= 2)                  | NA | NA | NA | NA | no  | 4.0.0 |\n",
       "| viridis | viridis      | /opt/conda/lib/R/library | 0.6.2    | NA   | R (&gt;= 2.10), viridisLite (&gt;= 0.4.0)                                                           | stats, ggplot2 (&gt;= 1.0.1), gridExtra                                                                                                                  | NA                                                     | hexbin (&gt;= 1.27.0), scales, MASS, knitr, dichromat,\n",
       "colorspace, raster, rasterVis, httr, mapproj, vdiffr, svglite\n",
       "(&gt;= 1.2.0), testthat, covr, rmarkdown, rgdal, maps                               | NA | MIT + file LICENSE          | NA | NA | NA | NA | no  | 4.0.0 |\n",
       "| viridisLite | viridisLite  | /opt/conda/lib/R/library | 0.4.0    | NA   | R (&gt;= 2.10)                                                                                   | NA                                                                                                                                                    | NA                                                     | hexbin (&gt;= 1.27.0), ggplot2 (&gt;= 1.0.1), testthat, covr                                                                                                                                               | NA | MIT + file LICENSE          | NA | NA | NA | NA | no  | 4.0.0 |\n",
       "| vroom | vroom        | /opt/conda/lib/R/library | 1.5.7    | NA   | R (&gt;= 3.1)                                                                                    | bit64, crayon, cli, glue, hms, lifecycle, methods, rlang (&gt;=\n",
       "0.4.2), stats, tibble (&gt;= 2.0.0), tzdb (&gt;= 0.1.1), vctrs (&gt;=\n",
       "0.2.0), tidyselect, withr | progress (&gt;= 1.2.1), cpp11 (&gt;= 0.2.0), tzdb (&gt;= 0.1.1) | archive, bench (&gt;= 1.1.0), covr, curl, dplyr, forcats, fs,\n",
       "ggplot2, knitr, patchwork, prettyunits, purrr, rmarkdown,\n",
       "rstudioapi, scales, spelling, testthat (&gt;= 2.1.0), tidyr,\n",
       "utils, waldo, xml2 | NA | MIT + file LICENSE          | NA | NA | NA | NA | yes | 4.0.0 |\n",
       "| waldo | waldo        | /opt/conda/lib/R/library | 0.4.0    | NA   | NA                                                                                            | cli, diffobj (&gt;= 0.3.4), fansi, glue, methods, rematch2, rlang\n",
       "(&gt;= 1.0.0), tibble                                                                    | NA                                                     | covr, R6, testthat (&gt;= 3.0.0), withr, xml2                                                                                                                                                           | NA | MIT + file LICENSE          | NA | NA | NA | NA | no  | 4.0.0 |\n",
       "| warp | warp         | /opt/conda/lib/R/library | 0.2.0    | NA   | R (&gt;= 3.2)                                                                                    | NA                                                                                                                                                    | NA                                                     | covr, testthat (&gt;= 2.1.0), knitr, rmarkdown                                                                                                                                                          | NA | MIT + file LICENSE          | NA | NA | NA | NA | yes | 4.0.0 |\n",
       "| webshot | webshot      | /opt/conda/lib/R/library | 0.5.3    | NA   | R (&gt;= 3.0)                                                                                    | magrittr, jsonlite, callr                                                                                                                             | NA                                                     | httpuv, knitr, rmarkdown, shiny                                                                                                                                                                      | NA | GPL-2                       | NA | NA | NA | NA | no  | 4.0.0 |\n",
       "| whisker | whisker      | /opt/conda/lib/R/library | 0.4      | NA   | NA                                                                                            | NA                                                                                                                                                    | NA                                                     | markdown                                                                                                                                                                                             | NA | GPL-3                       | NA | NA | NA | NA | no  | 4.0.0 |\n",
       "| whoami | whoami       | /opt/conda/lib/R/library | 1.3.0    | NA   | NA                                                                                            | httr, jsonlite, utils                                                                                                                                 | NA                                                     | covr, mockery, testthat, withr                                                                                                                                                                       | NA | MIT + file LICENSE          | NA | NA | NA | NA | no  | 4.0.0 |\n",
       "| withr | withr        | /opt/conda/lib/R/library | 2.5.0    | NA   | R (&gt;= 3.2.0)                                                                                  | graphics, grDevices, stats                                                                                                                            | NA                                                     | callr, covr, DBI, knitr, lattice, methods, rlang, rmarkdown\n",
       "(&gt;= 2.12), RSQLite, testthat (&gt;= 3.0.0)                                                                                                 | NA | MIT + file LICENSE          | NA | NA | NA | NA | no  | 4.0.0 |\n",
       "| wk | wk           | /opt/conda/lib/R/library | 0.6.0    | NA   | NA                                                                                            | NA                                                                                                                                                    | NA                                                     | testthat (&gt;= 3.0.0), vctrs (&gt;= 0.3.0), sf, tibble, readr                                                                                                                                             | NA | MIT + file LICENSE          | NA | NA | NA | NA | yes | 4.0.0 |\n",
       "| workflows | workflows    | /opt/conda/lib/R/library | 0.1.1    | NA   | R (&gt;= 3.2)                                                                                    | cli (&gt;= 2.0.0), ellipsis (&gt;= 0.2.0), generics, glue, hardhat\n",
       "(&gt;= 0.1.2), parsnip (&gt;= 0.0.4), rlang (&gt;= 0.4.1)                                        | NA                                                     | covr, knitr, recipes, rmarkdown, testthat (&gt;= 2.3.0)                                                                                                                                                 | NA | MIT + file LICENSE          | NA | NA | NA | NA | no  | 4.0.0 |\n",
       "| xfun | xfun         | /opt/conda/lib/R/library | 0.31     | NA   | NA                                                                                            | stats, tools                                                                                                                                          | NA                                                     | testit, parallel, codetools, rstudioapi, tinytex (&gt;= 0.30),\n",
       "mime, markdown, knitr, htmltools, remotes, pak, rhub, renv,\n",
       "curl, jsonlite, rmarkdown                                                  | NA | MIT + file LICENSE          | NA | NA | NA | NA | yes | 4.0.0 |\n",
       "| XML | XML          | /opt/conda/lib/R/library | 3.99-0.9 | NA   | R (&gt;= 4.0.0), methods, utils                                                                  | NA                                                                                                                                                    | NA                                                     | bitops, RCurl                                                                                                                                                                                        | NA | BSD_3_clause + file LICENSE | NA | NA | NA | NA | yes | 4.0.0 |\n",
       "| xml2 | xml2         | /opt/conda/lib/R/library | 1.3.2    | NA   | R (&gt;= 3.1.0)                                                                                  | methods                                                                                                                                               | NA                                                     | covr, curl, httr, knitr, magrittr, mockery, rmarkdown,\n",
       "testthat (&gt;= 2.1.0)                                                                                                                          | NA | GPL (&gt;= 2)                  | NA | NA | NA | NA | yes | 4.0.0 |\n",
       "| xmlparsedata | xmlparsedata | /opt/conda/lib/R/library | 1.0.5    | NA   | R (&gt;= 3.0.0)                                                                                  | NA                                                                                                                                                    | NA                                                     | covr, testthat, xml2                                                                                                                                                                                 | NA | MIT + file LICENSE          | NA | NA | NA | NA | no  | 4.0.0 |\n",
       "| xopen | xopen        | /opt/conda/lib/R/library | 1.0.0    | NA   | R (&gt;= 3.1)                                                                                    | processx                                                                                                                                              | NA                                                     | ps, testthat                                                                                                                                                                                         | NA | MIT + file LICENSE          | NA | NA | NA | NA | no  | 4.0.0 |\n",
       "| xtable | xtable       | /opt/conda/lib/R/library | 1.8-4    | NA   | R (&gt;= 2.10.0)                                                                                 | stats, utils                                                                                                                                          | NA                                                     | knitr, plm, zoo, survival                                                                                                                                                                            | NA | GPL (&gt;= 2)                  | NA | NA | NA | NA | no  | 4.0.0 |\n",
       "| xts | xts          | /opt/conda/lib/R/library | 0.12-0   | NA   | zoo (&gt;= 1.7-12)                                                                               | methods                                                                                                                                               | zoo                                                    | timeSeries, timeDate, tseries, chron, fts, tis, RUnit                                                                                                                                                | NA | GPL (&gt;= 2)                  | NA | NA | NA | NA | yes | 4.0.0 |\n",
       "| XVector | XVector      | /opt/conda/lib/R/library | 0.30.0   | NA   | R (&gt;= 2.8.0), methods, BiocGenerics (&gt;= 0.19.2), S4Vectors (&gt;=\n",
       "0.27.12), IRanges (&gt;= 2.23.9) | methods, utils, tools, zlibbioc, BiocGenerics, S4Vectors,\n",
       "IRanges                                                                                    | S4Vectors, IRanges                                     | Biostrings, drosophila2probe, RUnit                                                                                                                                                                  | NA | Artistic-2.0                | NA | NA | NA | NA | yes | 4.0.0 |\n",
       "| yaml | yaml         | /opt/conda/lib/R/library | 2.3.5    | NA   | NA                                                                                            | NA                                                                                                                                                    | NA                                                     | RUnit                                                                                                                                                                                                | NA | BSD_3_clause + file LICENSE | NA | NA | NA | NA | yes | 4.0.0 |\n",
       "| yardstick | yardstick    | /opt/conda/lib/R/library | 0.0.6    | NA   | R (&gt;= 2.10)                                                                                   | dplyr, utils, pROC (&gt;= 1.15.0), rlang (&gt;= 0.4.0), tidyselect,\n",
       "Rcpp, generics                                                                         | Rcpp                                                   | testthat, covr, purrr, tidyr, ggplot2, knitr, kableExtra,\n",
       "rmarkdown                                                                                                                                 | NA | GPL-2                       | NA | NA | NA | NA | yes | 4.0.0 |\n",
       "| zeallot | zeallot      | /opt/conda/lib/R/library | 0.1.0    | NA   | NA                                                                                            | NA                                                                                                                                                    | NA                                                     | testthat, knitr, rmarkdown, purrr, magrittr                                                                                                                                                          | NA | MIT + file LICENSE          | NA | NA | NA | NA | no  | 4.0.0 |\n",
       "| zip | zip          | /opt/conda/lib/R/library | 2.2.0    | NA   | NA                                                                                            | NA                                                                                                                                                    | NA                                                     | covr, processx, R6, testthat, withr                                                                                                                                                                  | NA | MIT + file LICENSE          | NA | NA | NA | NA | yes | 4.0.0 |\n",
       "| zlibbioc | zlibbioc     | /opt/conda/lib/R/library | 1.36.0   | NA   | NA                                                                                            | NA                                                                                                                                                    | NA                                                     | NA                                                                                                                                                                                                   | NA | Artistic-2.0 + file LICENSE | NA | NA | NA | NA | yes | 4.0.0 |\n",
       "| zoo | zoo          | /opt/conda/lib/R/library | 1.8-10   | NA   | R (&gt;= 3.1.0), stats                                                                           | utils, graphics, grDevices, lattice (&gt;= 0.20-27)                                                                                                      | NA                                                     | AER, coda, chron, fts, ggplot2 (&gt;= 3.0.0), mondate, scales,\n",
       "stinepack, strucchange, timeDate, timeSeries, tis, tseries, xts                                                                         | NA | GPL-2 | GPL-3               | NA | NA | NA | NA | yes | 4.0.0 |\n",
       "\n"
      ],
      "text/plain": [
       "                 Package          LibPath                  Version  Priority\n",
       "abind            abind            /opt/conda/lib/R/library 1.4-5    NA      \n",
       "annotate         annotate         /opt/conda/lib/R/library 1.68.0   NA      \n",
       "AnnotationDbi    AnnotationDbi    /opt/conda/lib/R/library 1.52.0   NA      \n",
       "AnnotationFilter AnnotationFilter /opt/conda/lib/R/library 1.14.0   NA      \n",
       "AnnotationHub    AnnotationHub    /opt/conda/lib/R/library 2.22.1   NA      \n",
       "arrow            arrow            /opt/conda/lib/R/library 8.0.0    NA      \n",
       "askpass          askpass          /opt/conda/lib/R/library 1.1      NA      \n",
       "assertthat       assertthat       /opt/conda/lib/R/library 0.2.1    NA      \n",
       "AUCell           AUCell           /opt/conda/lib/R/library 1.12.0   NA      \n",
       "backports        backports        /opt/conda/lib/R/library 1.1.8    NA      \n",
       "base             base             /opt/conda/lib/R/library 4.0.0    base    \n",
       "base64enc        base64enc        /opt/conda/lib/R/library 0.1-3    NA      \n",
       "batchelor        batchelor        /opt/conda/lib/R/library 1.6.3    NA      \n",
       "bayesplot        bayesplot        /opt/conda/lib/R/library 1.7.2    NA      \n",
       "beachmat         beachmat         /opt/conda/lib/R/library 2.6.4    NA      \n",
       "beeswarm         beeswarm         /opt/conda/lib/R/library 0.4.0    NA      \n",
       "BH               BH               /opt/conda/lib/R/library 1.78.0-0 NA      \n",
       "Biobase          Biobase          /opt/conda/lib/R/library 2.50.0   NA      \n",
       "BiocFileCache    BiocFileCache    /opt/conda/lib/R/library 1.14.0   NA      \n",
       "BiocGenerics     BiocGenerics     /opt/conda/lib/R/library 0.36.1   NA      \n",
       "BiocManager      BiocManager      /opt/conda/lib/R/library 1.30.18  NA      \n",
       "BiocNeighbors    BiocNeighbors    /opt/conda/lib/R/library 1.8.2    NA      \n",
       "BiocParallel     BiocParallel     /opt/conda/lib/R/library 1.24.1   NA      \n",
       "BiocSingular     BiocSingular     /opt/conda/lib/R/library 1.6.0    NA      \n",
       "BiocVersion      BiocVersion      /opt/conda/lib/R/library 3.12.0   NA      \n",
       "biomaRt          biomaRt          /opt/conda/lib/R/library 2.46.3   NA      \n",
       "Biostrings       Biostrings       /opt/conda/lib/R/library 2.58.0   NA      \n",
       "bit              bit              /opt/conda/lib/R/library 4.0.4    NA      \n",
       "bit64            bit64            /opt/conda/lib/R/library 4.0.5    NA      \n",
       "bitops           bitops           /opt/conda/lib/R/library 1.0-7    NA      \n",
       "⋮                ⋮                ⋮                        ⋮        ⋮       \n",
       "utils            utils            /opt/conda/lib/R/library 4.0.0    base    \n",
       "uuid             uuid             /opt/conda/lib/R/library 0.1-4    NA      \n",
       "uwot             uwot             /opt/conda/lib/R/library 0.1.11   NA      \n",
       "vctrs            vctrs            /opt/conda/lib/R/library 0.4.1    NA      \n",
       "vipor            vipor            /opt/conda/lib/R/library 0.4.5    NA      \n",
       "viridis          viridis          /opt/conda/lib/R/library 0.6.2    NA      \n",
       "viridisLite      viridisLite      /opt/conda/lib/R/library 0.4.0    NA      \n",
       "vroom            vroom            /opt/conda/lib/R/library 1.5.7    NA      \n",
       "waldo            waldo            /opt/conda/lib/R/library 0.4.0    NA      \n",
       "warp             warp             /opt/conda/lib/R/library 0.2.0    NA      \n",
       "webshot          webshot          /opt/conda/lib/R/library 0.5.3    NA      \n",
       "whisker          whisker          /opt/conda/lib/R/library 0.4      NA      \n",
       "whoami           whoami           /opt/conda/lib/R/library 1.3.0    NA      \n",
       "withr            withr            /opt/conda/lib/R/library 2.5.0    NA      \n",
       "wk               wk               /opt/conda/lib/R/library 0.6.0    NA      \n",
       "workflows        workflows        /opt/conda/lib/R/library 0.1.1    NA      \n",
       "xfun             xfun             /opt/conda/lib/R/library 0.31     NA      \n",
       "XML              XML              /opt/conda/lib/R/library 3.99-0.9 NA      \n",
       "xml2             xml2             /opt/conda/lib/R/library 1.3.2    NA      \n",
       "xmlparsedata     xmlparsedata     /opt/conda/lib/R/library 1.0.5    NA      \n",
       "xopen            xopen            /opt/conda/lib/R/library 1.0.0    NA      \n",
       "xtable           xtable           /opt/conda/lib/R/library 1.8-4    NA      \n",
       "xts              xts              /opt/conda/lib/R/library 0.12-0   NA      \n",
       "XVector          XVector          /opt/conda/lib/R/library 0.30.0   NA      \n",
       "yaml             yaml             /opt/conda/lib/R/library 2.3.5    NA      \n",
       "yardstick        yardstick        /opt/conda/lib/R/library 0.0.6    NA      \n",
       "zeallot          zeallot          /opt/conda/lib/R/library 0.1.0    NA      \n",
       "zip              zip              /opt/conda/lib/R/library 2.2.0    NA      \n",
       "zlibbioc         zlibbioc         /opt/conda/lib/R/library 1.36.0   NA      \n",
       "zoo              zoo              /opt/conda/lib/R/library 1.8-10   NA      \n",
       "                 Depends                                                                                                           \n",
       "abind            R (>= 1.5.0)                                                                                                      \n",
       "annotate         R (>= 2.10), AnnotationDbi (>= 1.27.5), XML                                                                       \n",
       "AnnotationDbi    R (>= 2.7.0), methods, utils, stats4, BiocGenerics (>=\\n0.29.2), Biobase (>= 1.17.0), IRanges                     \n",
       "AnnotationFilter R (>= 3.4.0)                                                                                                      \n",
       "AnnotationHub    BiocGenerics (>= 0.15.10), BiocFileCache (>= 1.5.1)                                                               \n",
       "arrow            R (>= 3.4)                                                                                                        \n",
       "askpass          NA                                                                                                                \n",
       "assertthat       NA                                                                                                                \n",
       "AUCell           NA                                                                                                                \n",
       "backports        R (>= 3.0.0)                                                                                                      \n",
       "base             NA                                                                                                                \n",
       "base64enc        R (>= 2.9.0)                                                                                                      \n",
       "batchelor        SingleCellExperiment                                                                                              \n",
       "bayesplot        R (>= 3.1.0)                                                                                                      \n",
       "beachmat         NA                                                                                                                \n",
       "beeswarm         NA                                                                                                                \n",
       "BH               NA                                                                                                                \n",
       "Biobase          R (>= 2.10), BiocGenerics (>= 0.27.1), utils                                                                      \n",
       "BiocFileCache    R (>= 3.4.0), dbplyr (>= 1.0.0)                                                                                   \n",
       "BiocGenerics     R (>= 4.0.0), methods, utils, graphics, stats, parallel                                                           \n",
       "BiocManager      NA                                                                                                                \n",
       "BiocNeighbors    NA                                                                                                                \n",
       "BiocParallel     methods                                                                                                           \n",
       "BiocSingular     NA                                                                                                                \n",
       "BiocVersion      R (>= 4.0.0)                                                                                                      \n",
       "biomaRt          methods                                                                                                           \n",
       "Biostrings       R (>= 3.5.0), methods, BiocGenerics (>= 0.31.5), S4Vectors (>=\\n0.27.12), IRanges (>= 2.23.9), XVector (>= 0.29.2)\n",
       "bit              R (>= 2.9.2)                                                                                                      \n",
       "bit64            R (>= 3.0.1), bit (>= 4.0.0), utils, methods, stats                                                               \n",
       "bitops           NA                                                                                                                \n",
       "⋮                ⋮                                                                                                                 \n",
       "utils            NA                                                                                                                \n",
       "uuid             R (>= 2.9.0)                                                                                                      \n",
       "uwot             Matrix                                                                                                            \n",
       "vctrs            R (>= 3.3)                                                                                                        \n",
       "vipor            R (>= 3.0.0)                                                                                                      \n",
       "viridis          R (>= 2.10), viridisLite (>= 0.4.0)                                                                               \n",
       "viridisLite      R (>= 2.10)                                                                                                       \n",
       "vroom            R (>= 3.1)                                                                                                        \n",
       "waldo            NA                                                                                                                \n",
       "warp             R (>= 3.2)                                                                                                        \n",
       "webshot          R (>= 3.0)                                                                                                        \n",
       "whisker          NA                                                                                                                \n",
       "whoami           NA                                                                                                                \n",
       "withr            R (>= 3.2.0)                                                                                                      \n",
       "wk               NA                                                                                                                \n",
       "workflows        R (>= 3.2)                                                                                                        \n",
       "xfun             NA                                                                                                                \n",
       "XML              R (>= 4.0.0), methods, utils                                                                                      \n",
       "xml2             R (>= 3.1.0)                                                                                                      \n",
       "xmlparsedata     R (>= 3.0.0)                                                                                                      \n",
       "xopen            R (>= 3.1)                                                                                                        \n",
       "xtable           R (>= 2.10.0)                                                                                                     \n",
       "xts              zoo (>= 1.7-12)                                                                                                   \n",
       "XVector          R (>= 2.8.0), methods, BiocGenerics (>= 0.19.2), S4Vectors (>=\\n0.27.12), IRanges (>= 2.23.9)                     \n",
       "yaml             NA                                                                                                                \n",
       "yardstick        R (>= 2.10)                                                                                                       \n",
       "zeallot          NA                                                                                                                \n",
       "zip              NA                                                                                                                \n",
       "zlibbioc         NA                                                                                                                \n",
       "zoo              R (>= 3.1.0), stats                                                                                               \n",
       "                 Imports                                                                                                                                                                                            \n",
       "abind            methods, utils                                                                                                                                                                                     \n",
       "annotate         Biobase, DBI, xtable, graphics, utils, stats, methods,\\nBiocGenerics (>= 0.13.8), httr                                                                                                             \n",
       "AnnotationDbi    DBI, RSQLite, S4Vectors (>= 0.9.25)                                                                                                                                                                \n",
       "AnnotationFilter utils, methods, GenomicRanges, lazyeval                                                                                                                                                            \n",
       "AnnotationHub    utils, methods, grDevices, RSQLite, BiocManager, BiocVersion,\\ncurl, rappdirs, AnnotationDbi (>= 1.31.19), S4Vectors,\\ninteractiveDisplayBase, httr, yaml, dplyr                                   \n",
       "arrow            assertthat, bit64 (>= 0.9-7), methods, purrr, R6, rlang,\\nstats, tidyselect (>= 1.0.0), utils, vctrs                                                                                               \n",
       "askpass          sys (>= 2.1)                                                                                                                                                                                       \n",
       "assertthat       tools                                                                                                                                                                                              \n",
       "AUCell           data.table, graphics, grDevices, GSEABase, methods, mixtools,\\nR.utils, shiny, stats, SummarizedExperiment, BiocGenerics,\\nS4Vectors, utils                                                        \n",
       "backports        utils                                                                                                                                                                                              \n",
       "base             NA                                                                                                                                                                                                 \n",
       "base64enc        NA                                                                                                                                                                                                 \n",
       "batchelor        SummarizedExperiment, S4Vectors, BiocGenerics, Rcpp, stats,\\nmethods, utils, igraph, BiocNeighbors, BiocSingular, Matrix,\\nDelayedArray, DelayedMatrixStats, BiocParallel, scuttle,\\nResidualMatrix\n",
       "bayesplot        dplyr (>= 0.8.0), ggplot2 (>= 3.0.0), ggridges, glue,\\nreshape2, rlang (>= 0.3.0), stats, tibble, tidyselect, utils                                                                                \n",
       "beachmat         methods, DelayedArray (>= 0.15.14), BiocGenerics, Matrix                                                                                                                                           \n",
       "beeswarm         stats, graphics, grDevices, utils                                                                                                                                                                  \n",
       "BH               NA                                                                                                                                                                                                 \n",
       "Biobase          methods                                                                                                                                                                                            \n",
       "BiocFileCache    methods, stats, utils, dplyr, RSQLite, DBI, rappdirs, curl,\\nhttr                                                                                                                                  \n",
       "BiocGenerics     methods, utils, graphics, stats, parallel                                                                                                                                                          \n",
       "BiocManager      utils                                                                                                                                                                                              \n",
       "BiocNeighbors    Rcpp, S4Vectors, BiocParallel, stats, methods, Matrix                                                                                                                                              \n",
       "BiocParallel     stats, utils, futile.logger, parallel, snow                                                                                                                                                        \n",
       "BiocSingular     BiocGenerics, S4Vectors, Matrix, methods, utils, DelayedArray,\\nBiocParallel, irlba, rsvd, Rcpp, beachmat                                                                                          \n",
       "BiocVersion      NA                                                                                                                                                                                                 \n",
       "biomaRt          utils, XML, AnnotationDbi, progress, stringr, httr, openssl,\\nBiocFileCache, rappdirs, xml2                                                                                                        \n",
       "Biostrings       methods, utils, grDevices, graphics, stats, crayon                                                                                                                                                 \n",
       "bit              NA                                                                                                                                                                                                 \n",
       "bit64            NA                                                                                                                                                                                                 \n",
       "bitops           NA                                                                                                                                                                                                 \n",
       "⋮                ⋮                                                                                                                                                                                                  \n",
       "utils            NA                                                                                                                                                                                                 \n",
       "uuid             NA                                                                                                                                                                                                 \n",
       "uwot             Rcpp, methods, FNN, RSpectra, RcppAnnoy (>= 0.0.17), irlba                                                                                                                                         \n",
       "vctrs            cli (>= 3.2.0), glue, rlang (>= 1.0.2)                                                                                                                                                             \n",
       "vipor            stats, graphics                                                                                                                                                                                    \n",
       "viridis          stats, ggplot2 (>= 1.0.1), gridExtra                                                                                                                                                               \n",
       "viridisLite      NA                                                                                                                                                                                                 \n",
       "vroom            bit64, crayon, cli, glue, hms, lifecycle, methods, rlang (>=\\n0.4.2), stats, tibble (>= 2.0.0), tzdb (>= 0.1.1), vctrs (>=\\n0.2.0), tidyselect, withr                                              \n",
       "waldo            cli, diffobj (>= 0.3.4), fansi, glue, methods, rematch2, rlang\\n(>= 1.0.0), tibble                                                                                                                 \n",
       "warp             NA                                                                                                                                                                                                 \n",
       "webshot          magrittr, jsonlite, callr                                                                                                                                                                          \n",
       "whisker          NA                                                                                                                                                                                                 \n",
       "whoami           httr, jsonlite, utils                                                                                                                                                                              \n",
       "withr            graphics, grDevices, stats                                                                                                                                                                         \n",
       "wk               NA                                                                                                                                                                                                 \n",
       "workflows        cli (>= 2.0.0), ellipsis (>= 0.2.0), generics, glue, hardhat\\n(>= 0.1.2), parsnip (>= 0.0.4), rlang (>= 0.4.1)                                                                                     \n",
       "xfun             stats, tools                                                                                                                                                                                       \n",
       "XML              NA                                                                                                                                                                                                 \n",
       "xml2             methods                                                                                                                                                                                            \n",
       "xmlparsedata     NA                                                                                                                                                                                                 \n",
       "xopen            processx                                                                                                                                                                                           \n",
       "xtable           stats, utils                                                                                                                                                                                       \n",
       "xts              methods                                                                                                                                                                                            \n",
       "XVector          methods, utils, tools, zlibbioc, BiocGenerics, S4Vectors,\\nIRanges                                                                                                                                 \n",
       "yaml             NA                                                                                                                                                                                                 \n",
       "yardstick        dplyr, utils, pROC (>= 1.15.0), rlang (>= 0.4.0), tidyselect,\\nRcpp, generics                                                                                                                      \n",
       "zeallot          NA                                                                                                                                                                                                 \n",
       "zip              NA                                                                                                                                                                                                 \n",
       "zlibbioc         NA                                                                                                                                                                                                 \n",
       "zoo              utils, graphics, grDevices, lattice (>= 0.20-27)                                                                                                                                                   \n",
       "                 LinkingTo                                             \n",
       "abind            NA                                                    \n",
       "annotate         NA                                                    \n",
       "AnnotationDbi    NA                                                    \n",
       "AnnotationFilter NA                                                    \n",
       "AnnotationHub    NA                                                    \n",
       "arrow            cpp11 (>= 0.4.2)                                      \n",
       "askpass          NA                                                    \n",
       "assertthat       NA                                                    \n",
       "AUCell           NA                                                    \n",
       "backports        NA                                                    \n",
       "base             NA                                                    \n",
       "base64enc        NA                                                    \n",
       "batchelor        Rcpp                                                  \n",
       "bayesplot        NA                                                    \n",
       "beachmat         NA                                                    \n",
       "beeswarm         NA                                                    \n",
       "BH               NA                                                    \n",
       "Biobase          NA                                                    \n",
       "BiocFileCache    NA                                                    \n",
       "BiocGenerics     NA                                                    \n",
       "BiocManager      NA                                                    \n",
       "BiocNeighbors    Rcpp, RcppHNSW                                        \n",
       "BiocParallel     BH                                                    \n",
       "BiocSingular     Rcpp, beachmat                                        \n",
       "BiocVersion      NA                                                    \n",
       "biomaRt          NA                                                    \n",
       "Biostrings       S4Vectors, IRanges, XVector                           \n",
       "bit              NA                                                    \n",
       "bit64            NA                                                    \n",
       "bitops           NA                                                    \n",
       "⋮                ⋮                                                     \n",
       "utils            NA                                                    \n",
       "uuid             NA                                                    \n",
       "uwot             Rcpp, RcppProgress, RcppAnnoy, dqrng                  \n",
       "vctrs            NA                                                    \n",
       "vipor            NA                                                    \n",
       "viridis          NA                                                    \n",
       "viridisLite      NA                                                    \n",
       "vroom            progress (>= 1.2.1), cpp11 (>= 0.2.0), tzdb (>= 0.1.1)\n",
       "waldo            NA                                                    \n",
       "warp             NA                                                    \n",
       "webshot          NA                                                    \n",
       "whisker          NA                                                    \n",
       "whoami           NA                                                    \n",
       "withr            NA                                                    \n",
       "wk               NA                                                    \n",
       "workflows        NA                                                    \n",
       "xfun             NA                                                    \n",
       "XML              NA                                                    \n",
       "xml2             NA                                                    \n",
       "xmlparsedata     NA                                                    \n",
       "xopen            NA                                                    \n",
       "xtable           NA                                                    \n",
       "xts              zoo                                                   \n",
       "XVector          S4Vectors, IRanges                                    \n",
       "yaml             NA                                                    \n",
       "yardstick        Rcpp                                                  \n",
       "zeallot          NA                                                    \n",
       "zip              NA                                                    \n",
       "zlibbioc         NA                                                    \n",
       "zoo              NA                                                    \n",
       "                 Suggests                                                                                                                                                                                                                                                                           \n",
       "abind            NA                                                                                                                                                                                                                                                                                 \n",
       "annotate         hgu95av2.db, genefilter, Biostrings (>= 2.25.10), IRanges,\\nrae230a.db, rae230aprobe, tkWidgets, GO.db, org.Hs.eg.db,\\norg.Mm.eg.db, hom.Hs.inp.db, humanCHRLOC, Rgraphviz, RUnit,                                                                                                 \n",
       "AnnotationDbi    hgu95av2.db, GO.db, org.Sc.sgd.db, org.At.tair.db, KEGG.db,\\nRUnit, TxDb.Hsapiens.UCSC.hg19.knownGene, hom.Hs.inp.db,\\norg.Hs.eg.db, reactome.db, AnnotationForge, graph,\\nEnsDb.Hsapiens.v75, BiocStyle, knitr                                                                    \n",
       "AnnotationFilter BiocStyle, knitr, testthat, RSQLite, org.Hs.eg.db                                                                                                                                                                                                                                  \n",
       "AnnotationHub    IRanges, GenomicRanges, GenomeInfoDb, VariantAnnotation,\\nRsamtools, rtracklayer, BiocStyle, knitr, AnnotationForge,\\nrBiopaxParser, RUnit, GenomicFeatures, MSnbase, mzR,\\nBiostrings, SummarizedExperiment, ExperimentHub, gdsfmt,\\nrmarkdown                                    \n",
       "arrow            DBI, dbplyr, decor, distro, dplyr, duckdb (>= 0.2.8), hms,\\nknitr, lubridate, pkgload, reticulate, rmarkdown, stringi,\\nstringr, testthat (>= 3.1.0), tibble, tzdb, withr                                                                                                          \n",
       "askpass          testthat                                                                                                                                                                                                                                                                           \n",
       "assertthat       testthat, covr                                                                                                                                                                                                                                                                     \n",
       "AUCell           Biobase, BiocStyle, doSNOW, dynamicTreeCut, DT, GEOquery,\\nknitr, NMF, plyr, R2HTML, rmarkdown, reshape2, plotly, rbokeh,\\ndevtools, Rtsne, tsne, testthat, zoo                                                                                                                    \n",
       "backports        NA                                                                                                                                                                                                                                                                                 \n",
       "base             methods                                                                                                                                                                                                                                                                            \n",
       "base64enc        NA                                                                                                                                                                                                                                                                                 \n",
       "batchelor        testthat, BiocStyle, knitr, rmarkdown, scran, scater,\\nbluster, scRNAseq                                                                                                                                                                                                           \n",
       "bayesplot        gridExtra (>= 2.2.1), hexbin, knitr (>= 1.16), loo (>=\\n2.0.0), RColorBrewer, rmarkdown (>= 1.0.0), rstan (>= 2.17.1),\\nrstanarm (>= 2.17.4), rstantools (>= 1.5.0), scales, shinystan\\n(>= 2.3.0), testthat (>= 2.0.0), vdiffr                                                    \n",
       "beachmat         testthat, BiocStyle, knitr, rmarkdown, rcmdcheck,\\nBiocParallel                                                                                                                                                                                                                    \n",
       "beeswarm         NA                                                                                                                                                                                                                                                                                 \n",
       "BH               NA                                                                                                                                                                                                                                                                                 \n",
       "Biobase          tools, tkWidgets, ALL, RUnit, golubEsets                                                                                                                                                                                                                                           \n",
       "BiocFileCache    testthat, knitr, BiocStyle, rmarkdown, rtracklayer                                                                                                                                                                                                                                 \n",
       "BiocGenerics     Biobase, S4Vectors, IRanges, GenomicRanges, DelayedArray,\\nBiostrings, Rsamtools, AnnotationDbi, affy, affyPLM, DESeq2,\\nflowClust, MSnbase, annotate, RUnit                                                                                                                       \n",
       "BiocManager      BiocVersion, remotes, rmarkdown, testthat, withr, curl, knitr                                                                                                                                                                                                                      \n",
       "BiocNeighbors    testthat, BiocStyle, knitr, rmarkdown, FNN, RcppAnnoy,\\nRcppHNSW                                                                                                                                                                                                                   \n",
       "BiocParallel     BiocGenerics, tools, foreach, BatchJobs, BBmisc, doParallel,\\nRmpi, GenomicRanges, RNAseqData.HNRNPC.bam.chr14,\\nTxDb.Hsapiens.UCSC.hg19.knownGene, VariantAnnotation,\\nRsamtools, GenomicAlignments, ShortRead, codetools, RUnit,\\nBiocStyle, knitr, batchtools, data.table       \n",
       "BiocSingular     testthat, BiocStyle, knitr, rmarkdown, ResidualMatrix                                                                                                                                                                                                                              \n",
       "BiocVersion      NA                                                                                                                                                                                                                                                                                 \n",
       "biomaRt          annotate, BiocStyle, knitr, rmarkdown, testthat, mockery                                                                                                                                                                                                                           \n",
       "Biostrings       BSgenome (>= 1.13.14), BSgenome.Celegans.UCSC.ce2 (>=\\n1.3.11), BSgenome.Dmelanogaster.UCSC.dm3 (>= 1.3.11),\\nBSgenome.Hsapiens.UCSC.hg18, drosophila2probe, hgu95av2probe,\\nhgu133aprobe, GenomicFeatures (>= 1.3.14), hgu95av2cdf, affy\\n(>= 1.41.3), affydata (>= 1.11.5), RUnit\n",
       "bit              testthat (>= 0.11.0), roxygen2, knitr, rmarkdown,\\nmicrobenchmark, bit64 (>= 4.0.0), ff (>= 4.0.0)                                                                                                                                                                                 \n",
       "bit64            NA                                                                                                                                                                                                                                                                                 \n",
       "bitops           NA                                                                                                                                                                                                                                                                                 \n",
       "⋮                ⋮                                                                                                                                                                                                                                                                                  \n",
       "utils            methods, xml2, commonmark                                                                                                                                                                                                                                                          \n",
       "uuid             NA                                                                                                                                                                                                                                                                                 \n",
       "uwot             testthat, covr, bigstatsr                                                                                                                                                                                                                                                          \n",
       "vctrs            bit64, covr, crayon, dplyr (>= 0.8.5), generics, knitr,\\npillar (>= 1.4.4), pkgdown (>= 2.0.1), rmarkdown, testthat (>=\\n3.0.0), tibble (>= 3.1.3), withr, xml2, waldo (>= 0.2.0),\\nzeallot                                                                                        \n",
       "vipor            testthat, beeswarm, lattice, ggplot2, beanplot, vioplot,\\nggbeeswarm,                                                                                                                                                                                                              \n",
       "viridis          hexbin (>= 1.27.0), scales, MASS, knitr, dichromat,\\ncolorspace, raster, rasterVis, httr, mapproj, vdiffr, svglite\\n(>= 1.2.0), testthat, covr, rmarkdown, rgdal, maps                                                                                                             \n",
       "viridisLite      hexbin (>= 1.27.0), ggplot2 (>= 1.0.1), testthat, covr                                                                                                                                                                                                                             \n",
       "vroom            archive, bench (>= 1.1.0), covr, curl, dplyr, forcats, fs,\\nggplot2, knitr, patchwork, prettyunits, purrr, rmarkdown,\\nrstudioapi, scales, spelling, testthat (>= 2.1.0), tidyr,\\nutils, waldo, xml2                                                                               \n",
       "waldo            covr, R6, testthat (>= 3.0.0), withr, xml2                                                                                                                                                                                                                                         \n",
       "warp             covr, testthat (>= 2.1.0), knitr, rmarkdown                                                                                                                                                                                                                                        \n",
       "webshot          httpuv, knitr, rmarkdown, shiny                                                                                                                                                                                                                                                    \n",
       "whisker          markdown                                                                                                                                                                                                                                                                           \n",
       "whoami           covr, mockery, testthat, withr                                                                                                                                                                                                                                                     \n",
       "withr            callr, covr, DBI, knitr, lattice, methods, rlang, rmarkdown\\n(>= 2.12), RSQLite, testthat (>= 3.0.0)                                                                                                                                                                               \n",
       "wk               testthat (>= 3.0.0), vctrs (>= 0.3.0), sf, tibble, readr                                                                                                                                                                                                                           \n",
       "workflows        covr, knitr, recipes, rmarkdown, testthat (>= 2.3.0)                                                                                                                                                                                                                               \n",
       "xfun             testit, parallel, codetools, rstudioapi, tinytex (>= 0.30),\\nmime, markdown, knitr, htmltools, remotes, pak, rhub, renv,\\ncurl, jsonlite, rmarkdown                                                                                                                                \n",
       "XML              bitops, RCurl                                                                                                                                                                                                                                                                      \n",
       "xml2             covr, curl, httr, knitr, magrittr, mockery, rmarkdown,\\ntestthat (>= 2.1.0)                                                                                                                                                                                                        \n",
       "xmlparsedata     covr, testthat, xml2                                                                                                                                                                                                                                                               \n",
       "xopen            ps, testthat                                                                                                                                                                                                                                                                       \n",
       "xtable           knitr, plm, zoo, survival                                                                                                                                                                                                                                                          \n",
       "xts              timeSeries, timeDate, tseries, chron, fts, tis, RUnit                                                                                                                                                                                                                              \n",
       "XVector          Biostrings, drosophila2probe, RUnit                                                                                                                                                                                                                                                \n",
       "yaml             RUnit                                                                                                                                                                                                                                                                              \n",
       "yardstick        testthat, covr, purrr, tidyr, ggplot2, knitr, kableExtra,\\nrmarkdown                                                                                                                                                                                                               \n",
       "zeallot          testthat, knitr, rmarkdown, purrr, magrittr                                                                                                                                                                                                                                        \n",
       "zip              covr, processx, R6, testthat, withr                                                                                                                                                                                                                                                \n",
       "zlibbioc         NA                                                                                                                                                                                                                                                                                 \n",
       "zoo              AER, coda, chron, fts, ggplot2 (>= 3.0.0), mondate, scales,\\nstinepack, strucchange, timeDate, timeSeries, tis, tseries, xts                                                                                                                                                       \n",
       "                 Enhances                         License                    \n",
       "abind            NA                               LGPL (>= 2)                \n",
       "annotate         NA                               Artistic-2.0               \n",
       "AnnotationDbi    NA                               Artistic-2.0               \n",
       "AnnotationFilter NA                               Artistic-2.0               \n",
       "AnnotationHub    AnnotationHubData                Artistic-2.0               \n",
       "arrow            NA                               Apache License (>= 2.0)    \n",
       "askpass          NA                               MIT + file LICENSE         \n",
       "assertthat       NA                               GPL-3                      \n",
       "AUCell           doMC, doRNG, doParallel, foreach GPL-3                      \n",
       "backports        NA                               GPL-2 | GPL-3              \n",
       "base             NA                               Part of R 4.0.0            \n",
       "base64enc        png                              GPL-2 | GPL-3              \n",
       "batchelor        NA                               GPL-3                      \n",
       "bayesplot        NA                               GPL (>= 3)                 \n",
       "beachmat         NA                               GPL-3                      \n",
       "beeswarm         NA                               Artistic-2.0               \n",
       "BH               NA                               BSL-1.0                    \n",
       "Biobase          NA                               Artistic-2.0               \n",
       "BiocFileCache    NA                               Artistic-2.0               \n",
       "BiocGenerics     NA                               Artistic-2.0               \n",
       "BiocManager      NA                               Artistic-2.0               \n",
       "BiocNeighbors    NA                               GPL-3                      \n",
       "BiocParallel     NA                               GPL-2 | GPL-3              \n",
       "BiocSingular     NA                               GPL-3                      \n",
       "BiocVersion      NA                               Artistic-2.0               \n",
       "biomaRt          NA                               Artistic-2.0               \n",
       "Biostrings       Rmpi                             Artistic-2.0               \n",
       "bit              NA                               GPL-2 | GPL-3              \n",
       "bit64            NA                               GPL-2 | GPL-3              \n",
       "bitops           NA                               GPL (>= 2)                 \n",
       "⋮                ⋮                                ⋮                          \n",
       "utils            NA                               Part of R 4.0.0            \n",
       "uuid             NA                               MIT + file LICENSE         \n",
       "uwot             NA                               GPL (>= 3)                 \n",
       "vctrs            NA                               MIT + file LICENSE         \n",
       "vipor            NA                               GPL (>= 2)                 \n",
       "viridis          NA                               MIT + file LICENSE         \n",
       "viridisLite      NA                               MIT + file LICENSE         \n",
       "vroom            NA                               MIT + file LICENSE         \n",
       "waldo            NA                               MIT + file LICENSE         \n",
       "warp             NA                               MIT + file LICENSE         \n",
       "webshot          NA                               GPL-2                      \n",
       "whisker          NA                               GPL-3                      \n",
       "whoami           NA                               MIT + file LICENSE         \n",
       "withr            NA                               MIT + file LICENSE         \n",
       "wk               NA                               MIT + file LICENSE         \n",
       "workflows        NA                               MIT + file LICENSE         \n",
       "xfun             NA                               MIT + file LICENSE         \n",
       "XML              NA                               BSD_3_clause + file LICENSE\n",
       "xml2             NA                               GPL (>= 2)                 \n",
       "xmlparsedata     NA                               MIT + file LICENSE         \n",
       "xopen            NA                               MIT + file LICENSE         \n",
       "xtable           NA                               GPL (>= 2)                 \n",
       "xts              NA                               GPL (>= 2)                 \n",
       "XVector          NA                               Artistic-2.0               \n",
       "yaml             NA                               BSD_3_clause + file LICENSE\n",
       "yardstick        NA                               GPL-2                      \n",
       "zeallot          NA                               MIT + file LICENSE         \n",
       "zip              NA                               MIT + file LICENSE         \n",
       "zlibbioc         NA                               Artistic-2.0 + file LICENSE\n",
       "zoo              NA                               GPL-2 | GPL-3              \n",
       "                 License_is_FOSS License_restricts_use OS_type MD5sum\n",
       "abind            NA              NA                    NA      NA    \n",
       "annotate         NA              NA                    NA      NA    \n",
       "AnnotationDbi    NA              NA                    NA      NA    \n",
       "AnnotationFilter NA              NA                    NA      NA    \n",
       "AnnotationHub    NA              NA                    NA      NA    \n",
       "arrow            NA              NA                    NA      NA    \n",
       "askpass          NA              NA                    NA      NA    \n",
       "assertthat       NA              NA                    NA      NA    \n",
       "AUCell           NA              NA                    NA      NA    \n",
       "backports        NA              NA                    NA      NA    \n",
       "base             NA              NA                    NA      NA    \n",
       "base64enc        NA              NA                    NA      NA    \n",
       "batchelor        NA              NA                    NA      NA    \n",
       "bayesplot        NA              NA                    NA      NA    \n",
       "beachmat         NA              NA                    NA      NA    \n",
       "beeswarm         NA              NA                    NA      NA    \n",
       "BH               NA              NA                    NA      NA    \n",
       "Biobase          NA              NA                    NA      NA    \n",
       "BiocFileCache    NA              NA                    NA      NA    \n",
       "BiocGenerics     NA              NA                    NA      NA    \n",
       "BiocManager      NA              NA                    NA      NA    \n",
       "BiocNeighbors    NA              NA                    NA      NA    \n",
       "BiocParallel     NA              NA                    NA      NA    \n",
       "BiocSingular     NA              NA                    NA      NA    \n",
       "BiocVersion      NA              NA                    NA      NA    \n",
       "biomaRt          NA              NA                    NA      NA    \n",
       "Biostrings       NA              NA                    NA      NA    \n",
       "bit              NA              NA                    NA      NA    \n",
       "bit64            NA              NA                    NA      NA    \n",
       "bitops           NA              NA                    NA      NA    \n",
       "⋮                ⋮               ⋮                     ⋮       ⋮     \n",
       "utils            NA              NA                    NA      NA    \n",
       "uuid             NA              NA                    NA      NA    \n",
       "uwot             NA              NA                    NA      NA    \n",
       "vctrs            NA              NA                    NA      NA    \n",
       "vipor            NA              NA                    NA      NA    \n",
       "viridis          NA              NA                    NA      NA    \n",
       "viridisLite      NA              NA                    NA      NA    \n",
       "vroom            NA              NA                    NA      NA    \n",
       "waldo            NA              NA                    NA      NA    \n",
       "warp             NA              NA                    NA      NA    \n",
       "webshot          NA              NA                    NA      NA    \n",
       "whisker          NA              NA                    NA      NA    \n",
       "whoami           NA              NA                    NA      NA    \n",
       "withr            NA              NA                    NA      NA    \n",
       "wk               NA              NA                    NA      NA    \n",
       "workflows        NA              NA                    NA      NA    \n",
       "xfun             NA              NA                    NA      NA    \n",
       "XML              NA              NA                    NA      NA    \n",
       "xml2             NA              NA                    NA      NA    \n",
       "xmlparsedata     NA              NA                    NA      NA    \n",
       "xopen            NA              NA                    NA      NA    \n",
       "xtable           NA              NA                    NA      NA    \n",
       "xts              NA              NA                    NA      NA    \n",
       "XVector          NA              NA                    NA      NA    \n",
       "yaml             NA              NA                    NA      NA    \n",
       "yardstick        NA              NA                    NA      NA    \n",
       "zeallot          NA              NA                    NA      NA    \n",
       "zip              NA              NA                    NA      NA    \n",
       "zlibbioc         NA              NA                    NA      NA    \n",
       "zoo              NA              NA                    NA      NA    \n",
       "                 NeedsCompilation Built\n",
       "abind            no               4.0.0\n",
       "annotate         no               4.0.0\n",
       "AnnotationDbi    no               4.0.0\n",
       "AnnotationFilter no               4.0.0\n",
       "AnnotationHub    yes              4.0.0\n",
       "arrow            yes              4.0.0\n",
       "askpass          yes              4.0.0\n",
       "assertthat       no               4.0.0\n",
       "AUCell           no               4.0.0\n",
       "backports        yes              4.0.1\n",
       "base             NA               4.0.0\n",
       "base64enc        yes              4.0.0\n",
       "batchelor        yes              4.0.0\n",
       "bayesplot        no               4.0.0\n",
       "beachmat         yes              4.0.0\n",
       "beeswarm         yes              4.0.0\n",
       "BH               no               4.0.0\n",
       "Biobase          yes              4.0.0\n",
       "BiocFileCache    no               4.0.0\n",
       "BiocGenerics     no               4.0.0\n",
       "BiocManager      no               4.0.0\n",
       "BiocNeighbors    yes              4.0.0\n",
       "BiocParallel     yes              4.0.0\n",
       "BiocSingular     yes              4.0.0\n",
       "BiocVersion      no               4.0.0\n",
       "biomaRt          no               4.0.0\n",
       "Biostrings       yes              4.0.0\n",
       "bit              yes              4.0.0\n",
       "bit64            yes              4.0.0\n",
       "bitops           yes              4.0.0\n",
       "⋮                ⋮                ⋮    \n",
       "utils            yes              4.0.0\n",
       "uuid             yes              4.0.0\n",
       "uwot             yes              4.0.0\n",
       "vctrs            yes              4.0.0\n",
       "vipor            no               4.0.0\n",
       "viridis          no               4.0.0\n",
       "viridisLite      no               4.0.0\n",
       "vroom            yes              4.0.0\n",
       "waldo            no               4.0.0\n",
       "warp             yes              4.0.0\n",
       "webshot          no               4.0.0\n",
       "whisker          no               4.0.0\n",
       "whoami           no               4.0.0\n",
       "withr            no               4.0.0\n",
       "wk               yes              4.0.0\n",
       "workflows        no               4.0.0\n",
       "xfun             yes              4.0.0\n",
       "XML              yes              4.0.0\n",
       "xml2             yes              4.0.0\n",
       "xmlparsedata     no               4.0.0\n",
       "xopen            no               4.0.0\n",
       "xtable           no               4.0.0\n",
       "xts              yes              4.0.0\n",
       "XVector          yes              4.0.0\n",
       "yaml             yes              4.0.0\n",
       "yardstick        yes              4.0.0\n",
       "zeallot          no               4.0.0\n",
       "zip              yes              4.0.0\n",
       "zlibbioc         yes              4.0.0\n",
       "zoo              yes              4.0.0"
      ]
     },
     "metadata": {},
     "output_type": "display_data"
    }
   ],
   "source": [
    ".libPaths()\n",
    "installed.packages()"
   ]
  },
  {
   "cell_type": "markdown",
   "metadata": {},
   "source": [
    "We will use some of the PBMC data that 10x makes available to the public, they were downloaded using wget:"
   ]
  },
  {
   "cell_type": "code",
   "execution_count": null,
   "metadata": {},
   "outputs": [],
   "source": [
    "#wget https://cf.10xgenomics.com/samples/cell-exp/3.0.2/5k_pbmc_v3/5k_pbmc_v3_filtered_feature_bc_matrix.h5\n",
    "#wget https://cf.10xgenomics.com/samples/cell-exp/3.0.0/pbmc_1k_v3/pbmc_1k_v3_filtered_feature_bc_matrix.h5"
   ]
  },
  {
   "cell_type": "markdown",
   "metadata": {},
   "source": [
    "We use `Read10X_h5` to import the data, you could also use `Read10X` and give a path to a folder that contains your matrix, features, and barcode tsv files."
   ]
  },
  {
   "cell_type": "code",
   "execution_count": null,
   "metadata": {},
   "outputs": [],
   "source": [
    "#data_dir <- '/gpfs/data/cbc/scrna_r_workshop'\n",
    "pbmc.1k <- Read10X_h5(paste0(data_dir, '/data/pbmc_1k_v3_filtered_feature_bc_matrix.h5'))\n",
    "pbmc.5k <- Read10X_h5(paste0(data_dir, '/data/5k_pbmc_v3_filtered_feature_bc_matrix.h5'))"
   ]
  },
  {
   "cell_type": "markdown",
   "metadata": {},
   "source": [
    "Then we create the Seurat objects:"
   ]
  },
  {
   "cell_type": "code",
   "execution_count": null,
   "metadata": {},
   "outputs": [],
   "source": [
    "pbmc.1k <- CreateSeuratObject(counts = pbmc.1k, project = 'pbmc.1k')\n",
    "pbmc.5k <- CreateSeuratObject(counts = pbmc.5k, project = 'pbmc.5k')"
   ]
  },
  {
   "cell_type": "markdown",
   "metadata": {},
   "source": [
    "We will `merge()` the objects for now. This will create a new Seurat object that simply concatenates the counts from the two objects."
   ]
  },
  {
   "cell_type": "code",
   "execution_count": null,
   "metadata": {},
   "outputs": [],
   "source": [
    "all_data <- merge(x = pbmc.1k, y = c(pbmc.5k), project = 'pbmc')"
   ]
  },
  {
   "cell_type": "markdown",
   "metadata": {},
   "source": [
    "### Data QC and filtering"
   ]
  },
  {
   "cell_type": "markdown",
   "metadata": {},
   "source": [
    "Our data might have captured dead or dying cells. We can use the percentage of mitochondrial reads from a cell as a proxy for the health/quality of a cell. Dead or dying cells will have a relatively higher proportion of mitochondrial reads. We can use the `[[]]` notation and the `PercentageFeatureSet` function to add this information to the `meta.data` slot."
   ]
  },
  {
   "cell_type": "code",
   "execution_count": null,
   "metadata": {},
   "outputs": [],
   "source": [
    "all_data[[\"percent.mt\"]] <- PercentageFeatureSet(all_data, pattern = \"^MT-\")"
   ]
  },
  {
   "cell_type": "markdown",
   "metadata": {},
   "source": [
    "Note that the format denoting the mitochondrial sequences might vary depending on the genome or organism used (it might be `mt-`, for example"
   ]
  },
  {
   "cell_type": "markdown",
   "metadata": {},
   "source": [
    "We can set the order of the idents before we plot to make sure we are plotting things in the right order"
   ]
  },
  {
   "cell_type": "code",
   "execution_count": null,
   "metadata": {},
   "outputs": [],
   "source": [
    "Idents(all_data) <- 'orig.ident'\n",
    "levels(all_data) <- c(\"pbmc.1k\", \"pbmc.5k\")"
   ]
  },
  {
   "cell_type": "markdown",
   "metadata": {},
   "source": [
    "Use `VlnPlot`:"
   ]
  },
  {
   "cell_type": "code",
   "execution_count": null,
   "metadata": {},
   "outputs": [],
   "source": [
    "VlnPlot(all_data, features = \"nFeature_RNA\")\n",
    "VlnPlot(all_data, features = \"nCount_RNA\")\n",
    "VlnPlot(all_data, features=\"percent.mt\")"
   ]
  },
  {
   "cell_type": "markdown",
   "metadata": {},
   "source": [
    "Use `FeatureScatter`:"
   ]
  },
  {
   "cell_type": "code",
   "execution_count": null,
   "metadata": {},
   "outputs": [],
   "source": [
    "FeatureScatter(all_data, feature1 = \"nCount_RNA\", feature2 = \"percent.mt\")\n",
    "FeatureScatter(all_data, feature1 = \"nFeature_RNA\", feature2 = \"percent.mt\")\n",
    "FeatureScatter(all_data, feature1 = \"nCount_RNA\", feature2 = \"nFeature_RNA\")"
   ]
  },
  {
   "cell_type": "markdown",
   "metadata": {},
   "source": [
    "Pick your filtering cutoffs based on the results of the plots:"
   ]
  },
  {
   "cell_type": "code",
   "execution_count": null,
   "metadata": {},
   "outputs": [],
   "source": [
    "all_data_sub <- subset(all_data, subset = nFeature_RNA > 500 & nFeature_RNA < 6000 & percent.mt < 25)"
   ]
  },
  {
   "cell_type": "markdown",
   "metadata": {},
   "source": [
    "We suggest using SCTransform to normalize your data. This is an alternative to the `NormalizeData`, `FindVariableFeatures`, and `ScaleData` workflow."
   ]
  },
  {
   "cell_type": "markdown",
   "metadata": {},
   "source": [
    "First, split the merged obejct by `orig.ident`:"
   ]
  },
  {
   "cell_type": "code",
   "execution_count": null,
   "metadata": {},
   "outputs": [],
   "source": [
    "all_data_split <- SplitObject(all_data_sub, split.by = 'orig.ident')"
   ]
  },
  {
   "cell_type": "markdown",
   "metadata": {},
   "source": [
    "### SCTransform normalization, clustering, dimension reduction"
   ]
  },
  {
   "cell_type": "markdown",
   "metadata": {},
   "source": [
    "#### Theory\n",
    "\n",
    "The theory behind sctransform is very similar to the generalized linear models (GLMs) used in bulkRNAseq analysis packages like `DESeq2` and `edgeR`. In `DESeq2` a negative binomial model is fitted to the counts and the mean and dispersion (roughly speaking how variable the observed count will be from the mean count) estimates from that model are used as the test statistics for comparison between groups. The same idea applies with `sctransform`, with an additional aspect where `sctransform` pools information across genes with similar abundances in order to address the higher sparsity of single cell data.\n",
    "\n",
    "Below is a side-by-side comparison of `sctransform` with `NormalizeData`, `FindVariableFeatures` and `ScaleData` on the PBMC3k data:\n",
    "\n",
    "<img src=\"src/sctransform_vs_regular.png\" width=\"800\">"
   ]
  },
  {
   "cell_type": "markdown",
   "metadata": {},
   "source": [
    "Then call the SCTransform function on the list you just made:"
   ]
  },
  {
   "cell_type": "code",
   "execution_count": null,
   "metadata": {},
   "outputs": [],
   "source": [
    "all_data_list <- lapply(all_data_split, function(x) {\n",
    "    x <- SCTransform(x,verbose=FALSE)}) # if you run this you might get several iteration limit reached issues"
   ]
  },
  {
   "cell_type": "markdown",
   "metadata": {},
   "source": [
    "Then we can re-merge the data using `merge.data = TRUE` so that we also merge the data slots instead of just merging the counts (which requires renormalization). This is recommended if the same normalization approach was applied to all objects."
   ]
  },
  {
   "cell_type": "code",
   "execution_count": null,
   "metadata": {},
   "outputs": [],
   "source": [
    "all_data_merged <- merge(x = all_data_list$pbmc.1k, y = c(all_data_list$pbmc.5k), merge.data = TRUE)"
   ]
  },
  {
   "cell_type": "markdown",
   "metadata": {},
   "source": [
    "Then run PCA"
   ]
  },
  {
   "cell_type": "code",
   "execution_count": null,
   "metadata": {},
   "outputs": [],
   "source": [
    "all_data_merged <- RunPCA(all_data_merged)"
   ]
  },
  {
   "cell_type": "markdown",
   "metadata": {},
   "source": [
    "You are getting an error because after the merge, the variable feature slot gets wiped since there could be different variable features in each original object. The default for `RunPCA` is to use those features and since it's empty, you get an error. You can either set the variable features of the merged SCT assay yourself (to something like the intersection or union of the individual object's variable features) or provide this vector of features to RunPCA itself.\n",
    "#https://github.com/satijalab/seurat/issues/2852\n",
    "We will run `SelectIntegrationFeatures` from the list of Seurat objects before merge and then assign those as the `VariableFeatures`"
   ]
  },
  {
   "cell_type": "code",
   "execution_count": null,
   "metadata": {},
   "outputs": [],
   "source": [
    "integration_features <- SelectIntegrationFeatures(all_data_list)\n",
    "VariableFeatures(all_data_merged) <- integration_features"
   ]
  },
  {
   "cell_type": "markdown",
   "metadata": {},
   "source": [
    "Now we can run the PCA and make an elbow plot:"
   ]
  },
  {
   "cell_type": "code",
   "execution_count": null,
   "metadata": {},
   "outputs": [],
   "source": [
    "all_data_merged <- RunPCA(all_data_merged)\n",
    "ElbowPlot(all_data_merged)"
   ]
  },
  {
   "cell_type": "markdown",
   "metadata": {},
   "source": [
    "Based on this plot, we get diminishing information returned once we get above ~10 PCs."
   ]
  },
  {
   "cell_type": "markdown",
   "metadata": {},
   "source": [
    "Next, construct a KNN graph based on the euclidean distance in PCA space, and refine the edge weights between any two cells based on the shared overlap in their local neighborhoods (Jaccard similarity). This step is performed using the FindNeighbors() function, and takes as input the previously defined dimensionality of the dataset (first 10 PCs)."
   ]
  },
  {
   "cell_type": "code",
   "execution_count": null,
   "metadata": {},
   "outputs": [],
   "source": [
    "all_data_merged <- FindNeighbors(all_data_merged, dims = 1:10)"
   ]
  },
  {
   "cell_type": "markdown",
   "metadata": {},
   "source": [
    "To cluster the cells, weapply the Louvain algorithm to iteratively group cells together, with the goal of optimizing the standard modularity function. The FindClusters() function implements this procedure, and contains a resolution parameter that sets the ‘granularity’ of the downstream clustering, with increased values leading to a greater number of clusters. Setting this parameter between 0.4-1.2 typically returns good results for single-cell datasets of around 3K cells. Optimal resolution often increases for larger datasets. The clusters can be found using the Idents() function."
   ]
  },
  {
   "cell_type": "code",
   "execution_count": null,
   "metadata": {},
   "outputs": [],
   "source": [
    "all_data_merged <- FindClusters(all_data_merged)"
   ]
  },
  {
   "cell_type": "markdown",
   "metadata": {},
   "source": [
    "Seurat offers several non-linear dimensional reduction techniques, such as tSNE and UMAP, to visualize and explore these datasets. The goal of these algorithms is to learn the underlying manifold of the data in order to place similar cells together in low-dimensional space. Cells within the graph-based clusters determined above should co-localize on these dimension reduction plots. As input to the UMAP and tSNE, we suggest using the same PCs as input to the clustering analysis. We recommend using FIt-SNE: Use the FFT-accelerated Interpolation-based t-SNE. Based on Kluger Lab code found here: https://github.com/KlugerLab/FIt-SNE to make things faster."
   ]
  },
  {
   "cell_type": "code",
   "execution_count": null,
   "metadata": {},
   "outputs": [],
   "source": [
    "all_data_merged <- RunUMAP(all_data_merged, dims = 1:10)\n",
    "all_data_merged <- RunTSNE(all_data_merged, tsne.method = \"FIt-SNE\", seed.use=61)"
   ]
  },
  {
   "cell_type": "markdown",
   "metadata": {},
   "source": [
    "We can look at the clusters using `DimPlot()` function:"
   ]
  },
  {
   "cell_type": "code",
   "execution_count": null,
   "metadata": {},
   "outputs": [],
   "source": [
    "DimPlot(all_data_merged, reduction='tsne')\n",
    "DimPlot(all_data_merged, reduction='umap')"
   ]
  },
  {
   "cell_type": "markdown",
   "metadata": {},
   "source": [
    "We can also group the plots by the `idents`"
   ]
  },
  {
   "cell_type": "code",
   "execution_count": null,
   "metadata": {},
   "outputs": [],
   "source": [
    "DimPlot(all_data_merged, reduction='tsne', group.by = 'orig.ident')\n",
    "DimPlot(all_data_merged, reduction='umap', group.by = 'orig.ident')"
   ]
  },
  {
   "cell_type": "markdown",
   "metadata": {},
   "source": [
    "### Data Integration"
   ]
  },
  {
   "cell_type": "markdown",
   "metadata": {},
   "source": [
    "In most cases if we are looking for differences in gene expression between experimental conditions, we will actually want to integrate our datasets rather than merge them. This is because the experimental conditions can cause cells to cluster both by condition and by cell type. Merging should really only be used for technical replicates with a low batch effect.\n",
    "\n",
    "There are two choices with integrating data: RPCA and CCA.\n",
    "\n",
    "\"Instead of utilizing canonical correlation analysis (‘CCA’) to identify anchors, we instead utilize reciprocal PCA (‘RPCA’). When determining anchors between any two datasets using RPCA, we project each dataset into the others PCA space and constrain the anchors by the same mutual neighborhood requirement. The commands for both workflows are largely identical, but the two methods may be applied in different context.\n",
    "\n",
    "By identifying shared sources of variation between datasets, CCA is well-suited for identifying anchors when cell types are conserved, but there are very substantial differences in gene expression across experiments. CCA-based integration therefore enables integrative analysis when experimental conditions or disease states introduce very strong expression shifts, or when integrating datasets across modalities and species. However, CCA-based integration may also lead to overcorrection, especially when a large proportion of cells are non-overlapping across datasets.\n",
    "\n",
    "RPCA-based integration runs significantly faster, and also represents a more conservative approach where cells in different biological states are less likely to ‘align’ after integration. We therefore,recommend RPCA during integrative analysis where: * A substantial fraction of cells in one dataset have no matching type in the other * Datasets originate from the same platform (i.e. multiple lanes of 10x genomics) * There are a large number of datasets or cells to integrate (see INSERT LINK for more tips on integrating large datasets)\n",
    "\n",
    "Below, we demonstrate the use of reciprocal PCA to align the same stimulated and resting datasets first analyzed in our introduction to scRNA-seq integration vignette. While the list of commands is nearly identical, this workflow requires users to run principal components analysis (PCA) individually on each dataset prior to integration. Users should also set the ‘reduction’ argument to ‘rpca’, when running FindIntegrationAnchors().\"\n"
   ]
  },
  {
   "cell_type": "markdown",
   "metadata": {},
   "source": [
    "First, run `PrepSCTIntegration`:"
   ]
  },
  {
   "cell_type": "code",
   "execution_count": null,
   "metadata": {},
   "outputs": [],
   "source": [
    "all_data_list <- PrepSCTIntegration(object.list = all_data_list, anchor.features = integration_features)"
   ]
  },
  {
   "cell_type": "markdown",
   "metadata": {},
   "source": [
    "Run PCA on all objects:"
   ]
  },
  {
   "cell_type": "code",
   "execution_count": null,
   "metadata": {},
   "outputs": [],
   "source": [
    "all_data_list <- lapply(X = all_data_list, FUN = RunPCA, features = integration_features)"
   ]
  },
  {
   "cell_type": "markdown",
   "metadata": {},
   "source": [
    "Find a set of anchors between seurat objects in a list. These anchors can later be used to integrate the objects using the IntegrateData function. "
   ]
  },
  {
   "cell_type": "code",
   "execution_count": null,
   "metadata": {},
   "outputs": [],
   "source": [
    "anchors <- FindIntegrationAnchors(object.list = all_data_list, normalization.method = \"SCT\", anchor.features = integration_features, reduction = 'rpca')"
   ]
  },
  {
   "cell_type": "markdown",
   "metadata": {},
   "source": [
    "Integrate data"
   ]
  },
  {
   "cell_type": "code",
   "execution_count": null,
   "metadata": {},
   "outputs": [],
   "source": [
    "all_data_integrated <- IntegrateData(anchorset = anchors, normalization.method = \"SCT\")"
   ]
  },
  {
   "cell_type": "markdown",
   "metadata": {},
   "source": [
    "Run PCA, clustering, and dimension reduction on the new integrated object:"
   ]
  },
  {
   "cell_type": "code",
   "execution_count": null,
   "metadata": {},
   "outputs": [],
   "source": [
    "all_data_integrated <- RunPCA(all_data_integrated)\n",
    "all_data_integrated <- FindNeighbors(all_data_integrated, dims = 1:10)\n",
    "all_data_integrated <- FindClusters(all_data_integrated)\n",
    "all_data_integrated <- RunUMAP(all_data_integrated, dims = 1:10)\n",
    "all_data_integrated <- RunTSNE(all_data_integrated, tsne.method = \"FIt-SNE\", seed.use=61)"
   ]
  },
  {
   "cell_type": "markdown",
   "metadata": {},
   "source": [
    "Compare merged vs integrated:"
   ]
  },
  {
   "cell_type": "code",
   "execution_count": null,
   "metadata": {},
   "outputs": [],
   "source": [
    "DimPlot(all_data_merged, reduction='tsne', group.by = 'orig.ident') + ggtitle(\"Merged\") | DimPlot(all_data_integrated, reduction='tsne', group.by = 'orig.ident') + ggtitle(\"Integrated\")\n",
    "DimPlot(all_data_merged, reduction='umap', group.by = 'orig.ident') + ggtitle(\"Merged\") | DimPlot(all_data_integrated, reduction='umap', group.by = 'orig.ident') + ggtitle(\"Integrated\")"
   ]
  },
  {
   "cell_type": "markdown",
   "metadata": {},
   "source": [
    "### Differential Expression Testing"
   ]
  },
  {
   "cell_type": "markdown",
   "metadata": {},
   "source": [
    "Seurat has a few methods for finding differentially expressed genes across cells:\n",
    "\n",
    "`FindMarkers`: Find markers (differentially expressed genes) for two specific identity classes.\n",
    "`FindAllMarkers`: Find markers for each identity class by comparing each class to all of the others.\n",
    "`FindConservedMarkers` Find markers conserved between two groups."
   ]
  },
  {
   "cell_type": "markdown",
   "metadata": {},
   "source": [
    "Lets look at differentially expressed genes across Seurat clusters. First, change the default identity class:"
   ]
  },
  {
   "cell_type": "code",
   "execution_count": null,
   "metadata": {},
   "outputs": [],
   "source": [
    "Idents(all_data_integrated) <- 'seurat_clusters'"
   ]
  },
  {
   "cell_type": "markdown",
   "metadata": {},
   "source": [
    "Make sure we are using the `RNA` assay:"
   ]
  },
  {
   "cell_type": "code",
   "execution_count": null,
   "metadata": {},
   "outputs": [],
   "source": [
    "DefaultAssay(all_data_integrated) <- 'RNA'"
   ]
  },
  {
   "cell_type": "markdown",
   "metadata": {},
   "source": [
    "Run `FindAllMarkers` with some pre-filtering to look at features that have at least a two-fold change in average expression in each comparison and features that are detected in at least 95% of cells in either group."
   ]
  },
  {
   "cell_type": "code",
   "execution_count": null,
   "metadata": {},
   "outputs": [],
   "source": [
    "cluster_markers <- FindAllMarkers(all_data_integrated, min.pct = 0.95, logfc.threshold = log(2))"
   ]
  },
  {
   "cell_type": "markdown",
   "metadata": {},
   "source": [
    "The object created has the following columns of information:\n",
    "`avg_logFC`: log fold-chage of the average expression between the two groups. Positive values indicate that the gene is more highly expressed in the first group\n",
    "`pct.1`: The percentage of cells where the gene is detected in the first group\n",
    "`pct.2`: The percentage of cells where the gene is detected in the second group\n",
    "`p_val_adj`: Adjusted p-value, based on bonferroni correction using all genes in the dataset"
   ]
  },
  {
   "cell_type": "markdown",
   "metadata": {},
   "source": [
    "### Data Viz"
   ]
  },
  {
   "cell_type": "markdown",
   "metadata": {},
   "source": [
    "Seurat also comes with several functions for visualizing your data. You can use `ggplot` like syntax to tweak your figures as needed."
   ]
  },
  {
   "cell_type": "markdown",
   "metadata": {},
   "source": [
    "We can make a `FeaturePlot`, which uses the `data` slot by default. Not that if you split the plots by some `Ident`, the scales might be different across the different plots. Using the `theme(legend.position = \"right\")` to force Seurat to include a legend."
   ]
  },
  {
   "cell_type": "code",
   "execution_count": null,
   "metadata": {},
   "outputs": [],
   "source": [
    "#cluster_markers %>% dplyr::filter(pct.2 > .9) %>% dplyr::filter(avg_log2FC > 2)\n",
    "FeaturePlot(all_data_integrated, features = 'IER2', reduction = 'tsne',  order = T, split.by = 'orig.ident') & \n",
    "   scale_colour_gradientn(colours = rev(brewer.pal(n = 11, name = \"Spectral\"))) & \n",
    "   theme(legend.position = \"right\")\n",
    "#cluster_markers %>% dplyr::filter(pct.2 > .9) %>% dplyr::filter(avg_log2FC > 2)\n",
    "FeaturePlot(all_data_integrated, features = 'IER2', reduction = 'tsne',  order = T, split.by = 'orig.ident') & \n",
    "   scale_colour_gradientn(limits = c(0,120), colours = rev(brewer.pal(n = 11, name = \"Spectral\"))) & \n",
    "   theme(legend.position = \"right\")"
   ]
  },
  {
   "cell_type": "markdown",
   "metadata": {},
   "source": [
    "`RidgePlot` uses `counts` slot by default:"
   ]
  },
  {
   "cell_type": "code",
   "execution_count": null,
   "metadata": {},
   "outputs": [],
   "source": [
    "RidgePlot(all_data_integrated, features = c('GAPDH','TPT1','GNAS','HLA-B', 'IER2'), ncol = 2) + theme(legend.position=\"none\")\n"
   ]
  },
  {
   "cell_type": "markdown",
   "metadata": {},
   "source": [
    "`DotPlot` uses the `data` slot, which is averaged and passed to scale. The size of each dot indicates that percentage of cells epxressing the feature, the color indicates the expression level."
   ]
  },
  {
   "cell_type": "code",
   "execution_count": null,
   "metadata": {},
   "outputs": [],
   "source": [
    "DotPlot(all_data_integrated, features = c('GAPDH','TPT1','GNAS','HLA-B','IER2'), assay = 'RNA')"
   ]
  },
  {
   "cell_type": "markdown",
   "metadata": {},
   "source": [
    "### Cell type annotation"
   ]
  }
 ],
 "metadata": {
  "kernelspec": {
   "display_name": "R",
   "language": "R",
   "name": "ir"
  },
  "language_info": {
   "codemirror_mode": "r",
   "file_extension": ".r",
   "mimetype": "text/x-r-source",
   "name": "R",
   "pygments_lexer": "r",
   "version": "4.0.0"
  }
 },
 "nbformat": 4,
 "nbformat_minor": 5
}
