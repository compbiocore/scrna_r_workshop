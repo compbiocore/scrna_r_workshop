{
 "cells": [
  {
   "cell_type": "markdown",
   "metadata": {},
   "source": [
    "# Advanced topics in scRNAseq\n",
    "\n",
    "What we'll cover:\n",
    "\n",
    " * Classifying cell types with a reference atlas with `TransferAnchors` from `Seurat`\n",
    " * Controlling for Type I error in estimated clusters with `clusterpval`\n",
    " * Gene set enrichment analysis with `fgsea`\n",
    " * Joint estimation of differential expression and gene set enrichment with `iDEA`\n",
    " \n",
    "(Joselynn: pyscenic? multimodal inference?)"
   ]
  },
  {
   "cell_type": "markdown",
   "metadata": {},
   "source": [
    "# Gene set enrichment analysis\n",
    "\n",
    "Gene set enrichment analysis attempts to identify genes that are over-represented in a set of genes that make up pathways associated with various mechanisms. You can think of it like this: if a particular pathway consists of 300 genes, and 280 of those 300 genes are in our list of differentially expressed genes (DEGs), then is that pathway relevant to the differences between our groups of interest?\n",
    "\n",
    "One of the more basic approaches to answering this question is Overrepresentation Analysis (ORA) (citation: https://yulab-smu.top/biomedical-knowledge-mining-book/references.html#ref-boyle2004). It takes as input a list of genes (aka the background) with pvalues indicating which genes are differentially expressed, and a pathway / set of genes, computes the number of DEGs that are found in the pathway, and then computes a p-value using a hypergeometric distribution based on that number along with the number of background genes and number of genes in the pathway.\n",
    "\n",
    "## GSEA\n",
    "\n",
    "ORA is solely based on the number of DEGs out of the , and thus will find pathways that have a lot of DEGs out of the background. However, ORA will miss smaller but coordinated changes in pathways, for example when a pathway does not contain many DEGs, but all genes in the pathway change together. A more complex approach to address this question is Gene Set Enrichment Analysis (GSEA), which utilizes all genes in the list rather than just the DEGs. GSEA takes a ranked list of genes in the set instead. How to create the ranked list is an open question, but typically log fold change, the test statistic, or a combination of log fold change and pvalue from a differential expression analysis are used.\n",
    "\n",
    "We will not get into how GSEA method works here, but the core results from such an analysis are:\n",
    "\n",
    " * Enrichment score (ES) - a representation of how overrepresented a gene set is at the top or bottom of the ranked list.\n",
    " * p-value of ES - the significance of the score for that gene set\n",
    " * Adjusted p-value - an adjusted p-value to account for multiple hypothesis testing of multiple gene sets\n",
    "\n",
    "We also run a more standard GSEA analysis, on just the Hallmark gene sets. There is an open question of how to create a ranked list for this analysis. We started with `avg_logFC` as was suggested in [issue#50](https://github.com/ctlab/fgsea/issues/50) on the `fgsea` repo, but it returned no significant pathways at all, which does not seem right for our comparisons also given Table \\@ref(tab:de-markers). This may be because in the discussion `avg_logFC` was suggested when comparing markers just between cell type clusters, but we are also actually comparing between different treatment types. Another option was to use `-sign(avg_log2FC)*log10(p_val_adj)`, which incorporates both logfoldchange and the pvalue. This approach seemed more reasonable and yielded results more similar to `iDEA`.\n",
    "\n",
    "## iDEA\n",
    "\n",
    "GSEA and ORA are dependent on an initial differential expression analysis. However, the differential expression of an individual gene also has an obvious dependence on gene set enrichment, as gene sets contain information about the individual genes within the set. iDEA (integrative Differental expression and gene set Enrichment Analysis) addresses this joint dependence through a model that jointly estimates both differential expression and gene set enrichment. The input to this method is still a list of per-gene summary statistics from an initial differential expression analysis, but iDEA has increased power and provides updated results for detection of both differentially expressed genes and gene sets.\n",
    "\n",
    "### notes for brainstorming\n",
    "\n",
    " * Show how to pull out hallmark gene sets (or any) with msigdbr\n",
    " * Show how to get markers with necessary options to get all genes\n",
    " * Show how to compute number of DE genes out of total\n",
    " * Show how to do an ORA with hypergeometric distribution\n",
    " * Show how to do an ORA with ClusterProfiler\n",
    " * Show how to make ranked list with log2FC and -sign(log2FC)xlog10(pval) for GSEA with fgsea and compare\n",
    " * Show how to make summary statistics list with iDEA\n",
    " * graphic for iDEA\n",
    " * Don't run iDEA but show code\n",
    "\n",
    "Problem... what data should I use? Can use 1-5kpbmc, but not sure any pathways will be represented... might as well run and see though. If not, iDEA has example data that we can also use for GSEA analysis"
   ]
  },
  {
   "cell_type": "code",
   "execution_count": 6,
   "metadata": {},
   "outputs": [
    {
     "ename": "ERROR",
     "evalue": "Error in Read10X_h5(paste0(data_dir, \"/data/pbmc_1k_v3_filtered_feature_bc_matrix.h5\")): Please install hdf5r to read HDF5 files\n",
     "output_type": "error",
     "traceback": [
      "Error in Read10X_h5(paste0(data_dir, \"/data/pbmc_1k_v3_filtered_feature_bc_matrix.h5\")): Please install hdf5r to read HDF5 files\nTraceback:\n",
      "1. Read10X_h5(paste0(data_dir, \"/data/pbmc_1k_v3_filtered_feature_bc_matrix.h5\"))",
      "2. stop(\"Please install hdf5r to read HDF5 files\")"
     ]
    }
   ],
   "source": [
    "set.seed(61)\n",
    ".libPaths(c('/usr/local/lib/R/site-library', '/usr/local/lib/R/library'))\n",
    "library(RColorBrewer)\n",
    "library(Seurat)\n",
    "library(patchwork)\n",
    "library(ggplot2)\n",
    "library(dplyr)\n",
    "#library(hdf5r)\n",
    "library(stringr)\n",
    "#library(biomaRt)\n",
    "#library(kableExtra)\n",
    "#library(SeuratDisk)\n",
    "\n",
    "#data_dir <- '/gpfs/data/cbc/scrna_r_workshop'\n",
    "pbmc.1k <- Read10X_h5(paste0(data_dir, '/data/pbmc_1k_v3_filtered_feature_bc_matrix.h5'))\n",
    "pbmc.5k <- Read10X_h5(paste0(data_dir, '/data/5k_pbmc_v3_filtered_feature_bc_matrix.h5'))"
   ]
  },
  {
   "cell_type": "code",
   "execution_count": null,
   "metadata": {},
   "outputs": [],
   "source": []
  }
 ],
 "metadata": {
  "@webio": {
   "lastCommId": null,
   "lastKernelId": null
  },
  "kernelspec": {
   "display_name": "R",
   "language": "R",
   "name": "ir"
  },
  "language_info": {
   "codemirror_mode": "r",
   "file_extension": ".r",
   "mimetype": "text/x-r-source",
   "name": "R",
   "pygments_lexer": "r",
   "version": "4.0.3"
  }
 },
 "nbformat": 4,
 "nbformat_minor": 2
}
